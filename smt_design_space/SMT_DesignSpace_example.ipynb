{
 "cells": [
  {
   "cell_type": "markdown",
   "metadata": {
    "colab_type": "text",
    "id": "view-in-github"
   },
   "source": [
    "<a href=\"https://colab.research.google.com/github/SMTorg/smt/blob/master/tutorial/SMT_DesignSpace_example.ipynb\" target=\"_parent\"><img src=\"https://colab.research.google.com/assets/colab-badge.svg\" alt=\"Open In Colab\"/></a>"
   ]
  },
  {
   "cell_type": "markdown",
   "metadata": {
    "id": "mDCpNW2-mu3w"
   },
   "source": [
    "<div class=\"jumbotron text-left\"><b>\n",
    "    \n",
    "This tutorial describes how to use de DesignSpace within the SMT toolbox. \n",
    "<div>\n",
    "    \n",
    "    July 2024 - `SMT version 2.6.3`\n",
    "  \n",
    "     Paul Saves, Jasper Bussemaker (DLR), and Nathalie BARTOLI (ONERA/DTIS/M2CI)"
   ]
  },
  {
   "cell_type": "markdown",
   "metadata": {},
   "source": [
    "<div class=\"alert alert-info fade in\" id=\"d110\">\n",
    "<p>Some updates</p>\n",
    "<ol> -  Manipulation of mixed DOE (continuous, integer,  categorical and hierarchical variables) </ol>\n",
    "</div>"
   ]
  },
  {
   "cell_type": "markdown",
   "metadata": {
    "id": "gDeEbi7nmu32"
   },
   "source": [
    "<p class=\"alert alert-success\" style=\"padding:1em\">\n",
    "To use SMT models, please follow this link : https://github.com/SMTorg/SMT/blob/master/README.md. The documentation is available here: http://smt.readthedocs.io/en/latest/\n",
    "</p>\n",
    "\n",
    "The reference paper is available \n",
    "here https://www.sciencedirect.com/science/article/pii/S0965997818309360?via%3Dihub \n",
    "\n",
    "or as a preprint: http://mdolab.engin.umich.edu/content/python-surrogate-modeling-framework-derivatives"
   ]
  },
  {
   "cell_type": "markdown",
   "metadata": {
    "id": "uU32V-7bmu33"
   },
   "source": [
    "For mixed integer with continuous relaxation, the reference paper is available here https://www.sciencedirect.com/science/article/pii/S0925231219315619"
   ]
  },
  {
   "cell_type": "code",
   "execution_count": 1,
   "metadata": {
    "colab": {
     "base_uri": "https://localhost:8080/",
     "height": 1000
    },
    "id": "EweBFT9Ap8Ay",
    "outputId": "4c016eb0-6a75-46f7-d2db-c4ff17ec284a"
   },
   "outputs": [
    {
     "name": "stdout",
     "output_type": "stream",
     "text": [
      "Requirement already satisfied: configspace==0.6.1 in /stck/psaves/miniconda3/envs/newenv1/lib/python3.9/site-packages (0.6.1)\n",
      "Requirement already satisfied: numpy in /stck/psaves/miniconda3/envs/newenv1/lib/python3.9/site-packages (from configspace==0.6.1) (1.26.4)\n",
      "Requirement already satisfied: pyparsing in /stck/psaves/miniconda3/envs/newenv1/lib/python3.9/site-packages (from configspace==0.6.1) (3.1.4)\n",
      "Requirement already satisfied: scipy in /stck/psaves/miniconda3/envs/newenv1/lib/python3.9/site-packages (from configspace==0.6.1) (1.13.1)\n",
      "Requirement already satisfied: typing-extensions in /stck/psaves/miniconda3/envs/newenv1/lib/python3.9/site-packages (from configspace==0.6.1) (4.12.2)\n",
      "Requirement already satisfied: more-itertools in /stck/psaves/miniconda3/envs/newenv1/lib/python3.9/site-packages (from configspace==0.6.1) (10.5.0)\n",
      "Requirement already satisfied: smt in /stck/psaves/miniconda3/envs/newenv1/lib/python3.9/site-packages (2.6.2)\n",
      "Requirement already satisfied: scikit-learn in /stck/psaves/miniconda3/envs/newenv1/lib/python3.9/site-packages (from smt) (1.5.2)\n",
      "Requirement already satisfied: pyDOE3 in /stck/psaves/miniconda3/envs/newenv1/lib/python3.9/site-packages (from smt) (1.0.3)\n",
      "Requirement already satisfied: scipy in /stck/psaves/miniconda3/envs/newenv1/lib/python3.9/site-packages (from smt) (1.13.1)\n",
      "Requirement already satisfied: jenn in /stck/psaves/miniconda3/envs/newenv1/lib/python3.9/site-packages (from smt) (1.0.6)\n",
      "Requirement already satisfied: jsonpointer>=2.4 in /stck/psaves/miniconda3/envs/newenv1/lib/python3.9/site-packages (from jenn->smt) (3.0.0)\n",
      "Requirement already satisfied: jsonschema>=4.22 in /stck/psaves/miniconda3/envs/newenv1/lib/python3.9/site-packages (from jenn->smt) (4.22.0)\n",
      "Requirement already satisfied: orjson>=3.9 in /stck/psaves/miniconda3/envs/newenv1/lib/python3.9/site-packages (from jenn->smt) (3.10.6)\n",
      "Requirement already satisfied: numpy>=1.22 in /stck/psaves/miniconda3/envs/newenv1/lib/python3.9/site-packages (from jenn->smt) (1.26.4)\n",
      "Requirement already satisfied: joblib>=1.2.0 in /stck/psaves/miniconda3/envs/newenv1/lib/python3.9/site-packages (from scikit-learn->smt) (1.4.2)\n",
      "Requirement already satisfied: threadpoolctl>=3.1.0 in /stck/psaves/miniconda3/envs/newenv1/lib/python3.9/site-packages (from scikit-learn->smt) (3.5.0)\n",
      "Requirement already satisfied: attrs>=22.2.0 in /stck/psaves/miniconda3/envs/newenv1/lib/python3.9/site-packages (from jsonschema>=4.22->jenn->smt) (23.1.0)\n",
      "Requirement already satisfied: jsonschema-specifications>=2023.03.6 in /stck/psaves/miniconda3/envs/newenv1/lib/python3.9/site-packages (from jsonschema>=4.22->jenn->smt) (2023.12.1)\n",
      "Requirement already satisfied: referencing>=0.28.4 in /stck/psaves/miniconda3/envs/newenv1/lib/python3.9/site-packages (from jsonschema>=4.22->jenn->smt) (0.35.1)\n",
      "Requirement already satisfied: rpds-py>=0.7.1 in /stck/psaves/miniconda3/envs/newenv1/lib/python3.9/site-packages (from jsonschema>=4.22->jenn->smt) (0.18.1)\n",
      "Collecting git+https://github.com/jbussemaker/adsg-core.git@dev\n",
      "  Cloning https://github.com/jbussemaker/adsg-core.git (to revision dev) to /tmp/pip-req-build-ns_sn3jp\n",
      "  Running command git clone --filter=blob:none --quiet https://github.com/jbussemaker/adsg-core.git /tmp/pip-req-build-ns_sn3jp\n",
      "  Running command git checkout -b dev --track origin/dev\n",
      "  Switched to a new branch 'dev'\n",
      "  Branch 'dev' set up to track remote branch 'dev' from 'origin'.\n",
      "  Resolved https://github.com/jbussemaker/adsg-core.git to commit bc6a9f0a2b362b09cec9c8d63c18372e28477507\n",
      "  Installing build dependencies ... \u001b[?25ldone\n",
      "\u001b[?25h  Getting requirements to build wheel ... \u001b[?25ldone\n",
      "\u001b[?25h  Preparing metadata (pyproject.toml) ... \u001b[?25ldone\n",
      "\u001b[?25hRequirement already satisfied: networkx~=2.6 in /stck/psaves/miniconda3/envs/newenv1/lib/python3.9/site-packages (from adsg-core==1.1.1) (2.8.8)\n",
      "Requirement already satisfied: lxml in /stck/psaves/miniconda3/envs/newenv1/lib/python3.9/site-packages (from adsg-core==1.1.1) (5.3.0)\n",
      "Requirement already satisfied: pydot in /stck/psaves/miniconda3/envs/newenv1/lib/python3.9/site-packages (from adsg-core==1.1.1) (3.0.1)\n",
      "Requirement already satisfied: cached-property>=1.5 in /stck/psaves/miniconda3/envs/newenv1/lib/python3.9/site-packages (from adsg-core==1.1.1) (1.5.2)\n",
      "Requirement already satisfied: appdirs in /stck/psaves/miniconda3/envs/newenv1/lib/python3.9/site-packages (from adsg-core==1.1.1) (1.4.4)\n",
      "Requirement already satisfied: numpy<2.0 in /stck/psaves/miniconda3/envs/newenv1/lib/python3.9/site-packages (from adsg-core==1.1.1) (1.26.4)\n",
      "Requirement already satisfied: scipy~=1.9 in /stck/psaves/miniconda3/envs/newenv1/lib/python3.9/site-packages (from adsg-core==1.1.1) (1.13.1)\n",
      "Requirement already satisfied: pandas in /stck/psaves/miniconda3/envs/newenv1/lib/python3.9/site-packages (from adsg-core==1.1.1) (2.2.2)\n",
      "Requirement already satisfied: numba~=0.56 in /stck/psaves/miniconda3/envs/newenv1/lib/python3.9/site-packages (from adsg-core==1.1.1) (0.60.0)\n",
      "Requirement already satisfied: llvmlite<0.44,>=0.43.0dev0 in /stck/psaves/miniconda3/envs/newenv1/lib/python3.9/site-packages (from numba~=0.56->adsg-core==1.1.1) (0.43.0)\n",
      "Requirement already satisfied: python-dateutil>=2.8.2 in /stck/psaves/miniconda3/envs/newenv1/lib/python3.9/site-packages (from pandas->adsg-core==1.1.1) (2.9.0.post0)\n",
      "Requirement already satisfied: pytz>=2020.1 in /stck/psaves/miniconda3/envs/newenv1/lib/python3.9/site-packages (from pandas->adsg-core==1.1.1) (2024.2)\n",
      "Requirement already satisfied: tzdata>=2022.7 in /stck/psaves/miniconda3/envs/newenv1/lib/python3.9/site-packages (from pandas->adsg-core==1.1.1) (2024.1)\n",
      "Requirement already satisfied: pyparsing>=3.0.9 in /stck/psaves/miniconda3/envs/newenv1/lib/python3.9/site-packages (from pydot->adsg-core==1.1.1) (3.1.4)\n",
      "Requirement already satisfied: six>=1.5 in /stck/psaves/miniconda3/envs/newenv1/lib/python3.9/site-packages (from python-dateutil>=2.8.2->pandas->adsg-core==1.1.1) (1.16.0)\n",
      "Requirement already satisfied: smt in /stck/psaves/miniconda3/envs/newenv1/lib/python3.9/site-packages (2.6.2)\n",
      "Requirement already satisfied: scikit-learn in /stck/psaves/miniconda3/envs/newenv1/lib/python3.9/site-packages (from smt) (1.5.2)\n",
      "Requirement already satisfied: pyDOE3 in /stck/psaves/miniconda3/envs/newenv1/lib/python3.9/site-packages (from smt) (1.0.3)\n",
      "Requirement already satisfied: scipy in /stck/psaves/miniconda3/envs/newenv1/lib/python3.9/site-packages (from smt) (1.13.1)\n",
      "Requirement already satisfied: jenn in /stck/psaves/miniconda3/envs/newenv1/lib/python3.9/site-packages (from smt) (1.0.6)\n",
      "Requirement already satisfied: jsonpointer>=2.4 in /stck/psaves/miniconda3/envs/newenv1/lib/python3.9/site-packages (from jenn->smt) (3.0.0)\n",
      "Requirement already satisfied: jsonschema>=4.22 in /stck/psaves/miniconda3/envs/newenv1/lib/python3.9/site-packages (from jenn->smt) (4.22.0)\n",
      "Requirement already satisfied: orjson>=3.9 in /stck/psaves/miniconda3/envs/newenv1/lib/python3.9/site-packages (from jenn->smt) (3.10.6)\n",
      "Requirement already satisfied: numpy>=1.22 in /stck/psaves/miniconda3/envs/newenv1/lib/python3.9/site-packages (from jenn->smt) (1.26.4)\n",
      "Requirement already satisfied: joblib>=1.2.0 in /stck/psaves/miniconda3/envs/newenv1/lib/python3.9/site-packages (from scikit-learn->smt) (1.4.2)\n",
      "Requirement already satisfied: threadpoolctl>=3.1.0 in /stck/psaves/miniconda3/envs/newenv1/lib/python3.9/site-packages (from scikit-learn->smt) (3.5.0)\n",
      "Requirement already satisfied: attrs>=22.2.0 in /stck/psaves/miniconda3/envs/newenv1/lib/python3.9/site-packages (from jsonschema>=4.22->jenn->smt) (23.1.0)\n",
      "Requirement already satisfied: jsonschema-specifications>=2023.03.6 in /stck/psaves/miniconda3/envs/newenv1/lib/python3.9/site-packages (from jsonschema>=4.22->jenn->smt) (2023.12.1)\n",
      "Requirement already satisfied: referencing>=0.28.4 in /stck/psaves/miniconda3/envs/newenv1/lib/python3.9/site-packages (from jsonschema>=4.22->jenn->smt) (0.35.1)\n",
      "Requirement already satisfied: rpds-py>=0.7.1 in /stck/psaves/miniconda3/envs/newenv1/lib/python3.9/site-packages (from jsonschema>=4.22->jenn->smt) (0.18.1)\n"
     ]
    }
   ],
   "source": [
    "!pip install configspace==0.6.1\n",
    "#!pip install adsg_core --pre\n",
    "#!pip install adsg-core[nb]\n",
    "\n",
    "# to install smt\n",
    "!pip install smt\n",
    "\n",
    "!pip install git+https://github.com/jbussemaker/adsg-core.git@dev\n",
    "\n",
    "# to have the latest version\n",
    "!pip install smt --pre"
   ]
  },
  {
   "cell_type": "markdown",
   "metadata": {},
   "source": [
    "<div class=\"alert alert-warning\" >\n",
    "If you use hierarchical variables and the size of your doe greater than 30 points, you may leverage the `numba` JIT compiler to speed up the computation\n",
    "To do so:\n",
    "    \n",
    " - install numba library\n",
    "    \n",
    "     `pip install numba`\n",
    "    \n",
    "    \n",
    " - and define the environment variable `USE_NUMBA_JIT = 1` (unset or 0 if you do not want to use numba) \n",
    "    \n",
    "     - Linux: export USE_NUMBA_JIT = 1\n",
    "    \n",
    "     - Windows: set USE_NUMBA_JIT = 1\n",
    "\n",
    "</div>"
   ]
  },
  {
   "cell_type": "code",
   "execution_count": 2,
   "metadata": {},
   "outputs": [
    {
     "ename": "ImportError",
     "evalue": "cannot import name 'ArchDesignSpaceGraph' from 'SMTDesignSpace.design_space' (/stck/psaves/smt-design-space/SMTDesignSpace/design_space.py)",
     "output_type": "error",
     "traceback": [
      "\u001b[0;31m---------------------------------------------------------------------------\u001b[0m",
      "\u001b[0;31mImportError\u001b[0m                               Traceback (most recent call last)",
      "Cell \u001b[0;32mIn[2], line 4\u001b[0m\n\u001b[1;32m      1\u001b[0m get_ipython()\u001b[38;5;241m.\u001b[39mrun_line_magic(\u001b[38;5;124m'\u001b[39m\u001b[38;5;124mmatplotlib\u001b[39m\u001b[38;5;124m'\u001b[39m, \u001b[38;5;124m'\u001b[39m\u001b[38;5;124minline\u001b[39m\u001b[38;5;124m'\u001b[39m)\n\u001b[0;32m----> 4\u001b[0m \u001b[38;5;28;01mfrom\u001b[39;00m \u001b[38;5;21;01mSMTDesignSpace\u001b[39;00m\u001b[38;5;21;01m.\u001b[39;00m\u001b[38;5;21;01mdesign_space\u001b[39;00m \u001b[38;5;28;01mimport\u001b[39;00m (\n\u001b[1;32m      5\u001b[0m     ArchDesignSpaceGraph,\n\u001b[1;32m      6\u001b[0m     DesignSpace,\n\u001b[1;32m      7\u001b[0m     FloatVariable,\n\u001b[1;32m      8\u001b[0m     IntegerVariable,\n\u001b[1;32m      9\u001b[0m     OrdinalVariable,\n\u001b[1;32m     10\u001b[0m     CategoricalVariable,\n\u001b[1;32m     11\u001b[0m )\n\u001b[1;32m     13\u001b[0m \u001b[38;5;28;01mimport\u001b[39;00m \u001b[38;5;21;01mplotly\u001b[39;00m\u001b[38;5;21;01m.\u001b[39;00m\u001b[38;5;21;01mio\u001b[39;00m \u001b[38;5;28;01mas\u001b[39;00m \u001b[38;5;21;01mpio\u001b[39;00m\n\u001b[1;32m     15\u001b[0m \u001b[38;5;66;03m# to ignore warning messages\u001b[39;00m\n",
      "\u001b[0;31mImportError\u001b[0m: cannot import name 'ArchDesignSpaceGraph' from 'SMTDesignSpace.design_space' (/stck/psaves/smt-design-space/SMTDesignSpace/design_space.py)"
     ]
    }
   ],
   "source": [
    "%matplotlib inline\n",
    "\n",
    "\n",
    "from SMTDesignSpace.design_space import (\n",
    "    ArchDesignSpaceGraph,\n",
    "    DesignSpace,\n",
    "    FloatVariable,\n",
    "    IntegerVariable,\n",
    "    OrdinalVariable,\n",
    "    CategoricalVariable,\n",
    ")\n",
    "\n",
    "import plotly.io as pio\n",
    "\n",
    "# to ignore warning messages\n",
    "import warnings\n",
    "\n",
    "warnings.filterwarnings(\"ignore\")\n",
    "\n",
    "pio.renderers.default = \"notebook\""
   ]
  },
  {
   "cell_type": "markdown",
   "metadata": {
    "id": "aggEHXHmmu4I"
   },
   "source": [
    "# Manipulate DOE with mixed, categorical & hierarchical variables"
   ]
  },
  {
   "cell_type": "markdown",
   "metadata": {
    "id": "dvVSDE-omu4I"
   },
   "source": [
    "4 variables \n",
    " - 1 categorical variable with 2 labels ['A', 'B'] # x0 categorical: A or B; order is not relevant\n",
    " - 1 ordinal variable with 3 levels ['C', 'D', 'E']),  # x1 ordinal: C, D or E; order is relevant\n",
    " - 1 integer variable [0,2]: 3 possibilities: 0, 1, 2\n",
    " - 1 continuous variable $\\in [0, 1]$\n",
    " \n",
    " \n",
    " **Posssibility to have hierarchical variable: x1 exists only if x0 = 'A'**"
   ]
  },
  {
   "cell_type": "code",
   "execution_count": null,
   "metadata": {},
   "outputs": [],
   "source": [
    "# Instantiate the design space with all its design variables:\n",
    "\n",
    "ds = DesignSpace(\n",
    "    [\n",
    "        CategoricalVariable(\n",
    "            [\"A\", \"B\"]\n",
    "        ),  # x0 categorical: A or B; order is not relevant\n",
    "        OrdinalVariable([\"C\", \"D\", \"E\"]),  # x1 ordinal: C, D or E; order is relevant\n",
    "        IntegerVariable(0, 2),  # x2 integer between 0 and 2 (inclusive): 0, 1, 2\n",
    "        FloatVariable(0, 1),  # c3 continuous between 0 and 1\n",
    "    ]\n",
    ")\n",
    "\n",
    "print(\"Number of design variables\", len(ds.design_variables))\n",
    "# You can define decreed variables (conditional activation):\n",
    "ds.declare_decreed_var(\n",
    "    decreed_var=1, meta_var=0, meta_value=\"A\"\n",
    ")  # Activate x1 if x0 == A"
   ]
  },
  {
   "cell_type": "code",
   "execution_count": null,
   "metadata": {},
   "outputs": [],
   "source": [
    "## To give some examples\n",
    "# It is also possible to randomly sample design vectors conforming to the constraints:\n",
    "n = 5\n",
    "x_sampled, is_acting_sampled = ds.sample_valid_x(5)\n",
    "\n",
    "print(\"Data encoded: \\n\", x_sampled)\n",
    "print(\"Data in initial space: \\n\", ds.decode_values(x_sampled))"
   ]
  },
  {
   "cell_type": "code",
   "execution_count": null,
   "metadata": {},
   "outputs": [],
   "source": [
    "# After defining everything correctly, you can then use the design space object\n",
    "# to correct design vectors and get information about which design variables are acting:\n",
    "x_corr, is_acting = ds.correct_get_acting(x_sampled)\n",
    "print(\"Which variables are active \\n\", is_acting)"
   ]
  },
  {
   "cell_type": "code",
   "execution_count": null,
   "metadata": {},
   "outputs": [],
   "source": [
    "# If needed, it is possible to get the legacy design space definition format:\n",
    "xlimits = ds.get_x_limits()\n",
    "cont_bounds = ds.get_num_bounds()\n",
    "unfolded_cont_bounds = ds.get_unfolded_num_bounds()\n",
    "print(\"Limits of each variable \\n\", xlimits)\n",
    "print(\"Continuous bounds with the encoding done (4 variables now) \\n\", cont_bounds)\n",
    "print(\n",
    "    \"Continuous bounds with the unfolded encoding done (5 variables now)\\n\",\n",
    "    unfolded_cont_bounds,\n",
    ")"
   ]
  },
  {
   "cell_type": "markdown",
   "metadata": {},
   "source": [
    "# Manipulate DOE with continuous variables"
   ]
  },
  {
   "cell_type": "code",
   "execution_count": null,
   "metadata": {},
   "outputs": [],
   "source": [
    "# You can also instantiate a purely-continuous design space from bounds directly:\n",
    "continuous_design_space = DesignSpace([(0, 1), (0, 2), (0.5, 5.5)])\n",
    "print(\n",
    "    \"Number of design variables =\",\n",
    "    continuous_design_space.n_dv,\n",
    "    \" or \",\n",
    "    len(continuous_design_space.design_variables),\n",
    ")"
   ]
  },
  {
   "cell_type": "code",
   "execution_count": null,
   "metadata": {},
   "outputs": [],
   "source": [
    "x_sampled_cont, is_acting_sampled_cont = continuous_design_space.sample_valid_x(5)"
   ]
  },
  {
   "cell_type": "code",
   "execution_count": null,
   "metadata": {},
   "outputs": [],
   "source": [
    "print(\"Data encoded: \\n\", x_sampled_cont)\n",
    "print(\"Is_acting: \\n\", is_acting_sampled_cont)"
   ]
  },
  {
   "cell_type": "markdown",
   "metadata": {},
   "source": [
    "# Moving towards Architecture Design Space Graph (ADSG)"
   ]
  },
  {
   "cell_type": "code",
   "execution_count": null,
   "metadata": {},
   "outputs": [],
   "source": [
    "from adsg_core import BasicADSG, NamedNode, DesignVariableNode\n",
    "\n",
    "# Create the ADSG\n",
    "adsg = BasicADSG()\n",
    "\n",
    "ndv = 13\n",
    "\n",
    "\n",
    "# Create nodes\n",
    "n = [NamedNode(f\"N{i}\") for i in range(ndv)]\n",
    "n = [\n",
    "    NamedNode(\"MLP\"),\n",
    "    NamedNode(\"Learning_rate\"),\n",
    "    NamedNode(\"Activation_function\"),\n",
    "    NamedNode(\"Optimizer\"),\n",
    "    NamedNode(\"Decay\"),\n",
    "    NamedNode(\"Power_update\"),\n",
    "    NamedNode(\"Average_start\"),\n",
    "    NamedNode(\"Running_Average_1\"),\n",
    "    NamedNode(\"Running_Average_2\"),\n",
    "    NamedNode(\"Numerical_Stability\"),\n",
    "    NamedNode(\"Nb_layers\"),\n",
    "    NamedNode(\"Layer_1\"),\n",
    "    NamedNode(\"Layer_2\"),\n",
    "    NamedNode(\"Layer_3\"),  # NamedNode(\"Dropout\"),\n",
    "    NamedNode(\"ASGD\"),\n",
    "    NamedNode(\"Adam\"),\n",
    "    NamedNode(\"20...40\"),\n",
    "    NamedNode(\"40\"),\n",
    "    NamedNode(\"45\"),\n",
    "    NamedNode(\"20...40\"),\n",
    "    NamedNode(\"40\"),\n",
    "    NamedNode(\"45\"),\n",
    "    NamedNode(\"20...40\"),\n",
    "    NamedNode(\"40\"),\n",
    "    NamedNode(\"45\"),\n",
    "]\n",
    "adsg.add_node(n[1])\n",
    "adsg.add_node(n[2])\n",
    "# adsg.add_node(n[3])\n",
    "\n",
    "# Add some edges\n",
    "adsg.add_edges(\n",
    "    [\n",
    "        # (n[0], n[1]),\n",
    "        # (n[0], n[2]),\n",
    "        # (n[0], n[3]),\n",
    "        (n[3], n[10]),\n",
    "        (n[14], n[4]),\n",
    "        (n[14], n[5]),\n",
    "        (n[14], n[6]),\n",
    "        (n[15], n[7]),\n",
    "        (n[15], n[8]),\n",
    "        (n[15], n[9]),\n",
    "    ]\n",
    ")\n",
    "\n",
    "choiceo = adsg.add_selection_choice(\"Optimizer_Choice\", n[3], [n[14], n[15]])\n",
    "\n",
    "\n",
    "choicenl = adsg.add_selection_choice(\"#layers\", n[10], [n[11], n[12], n[13]])\n",
    "# adsg.add_edges([ (n[12],n[11]), (n[13],n[12]) ])\n",
    "a = []\n",
    "for i in range(3):\n",
    "    a.append(NamedNode(str(25 + 5 * i)))\n",
    "b = a.copy()\n",
    "b.append(n[17])\n",
    "b.append(n[18])\n",
    "choicel1 = adsg.add_selection_choice(\"#neurons_1\", n[11], b)\n",
    "adsg.add_edges([(n[12], choicel1), (n[13], choicel1)])\n",
    "\n",
    "\n",
    "a = []\n",
    "for i in range(3):\n",
    "    a.append(NamedNode(str(25 + 5 * i)))\n",
    "b = a.copy()\n",
    "b.append(n[20])\n",
    "b.append(n[21])\n",
    "choicel1 = adsg.add_selection_choice(\"#neurons_2\", n[12], b)\n",
    "adsg.add_edges([(n[13], choicel1)])\n",
    "\n",
    "a = []\n",
    "for i in range(3):\n",
    "    a.append(NamedNode(str(25 + 5 * i)))\n",
    "b = a.copy()\n",
    "b.append(n[23])\n",
    "b.append(n[24])\n",
    "choicel1 = adsg.add_selection_choice(\"#neurons_3\", n[13], b)\n",
    "\n",
    "# adsg.add_edges([ (n[18],n[17]), (n[17],n[16]) ])\n",
    "# adsg.add_edges([ (n[21],n[20]), (n[20],n[19]) ])\n",
    "# adsg.add_edges([ (n[24],n[23]), (n[23],n[22]) ])\n",
    "\n",
    "adsg.add_incompatibility_constraint([n[15], n[13]])\n",
    "adsg.add_incompatibility_constraint([n[14], n[17]])\n",
    "adsg.add_incompatibility_constraint([n[14], n[18]])\n",
    "adsg.add_incompatibility_constraint([n[14], n[20]])\n",
    "adsg.add_incompatibility_constraint([n[14], n[21]])\n",
    "adsg.add_incompatibility_constraint([n[14], n[23]])\n",
    "adsg.add_incompatibility_constraint([n[14], n[24]])\n",
    "start_nodes = set()\n",
    "start_nodes.add(n[3])\n",
    "start_nodes.add(n[2])\n",
    "start_nodes.add(n[1])\n",
    "# start_nodes.add(n[0])\n",
    "\n",
    "\n",
    "adsg.add_edges(\n",
    "    [\n",
    "        (n[1], DesignVariableNode(\"x0\", bounds=(0, 1))),\n",
    "        (n[4], DesignVariableNode(\"x1\", bounds=(0, 1))),\n",
    "        (n[5], DesignVariableNode(\"x2\", bounds=(0, 1))),\n",
    "        (n[6], DesignVariableNode(\"x3\", bounds=(0, 1))),\n",
    "        (n[7], DesignVariableNode(\"x4\", bounds=(0, 1))),\n",
    "        (n[8], DesignVariableNode(\"x5\", bounds=(0, 1))),\n",
    "        (n[9], DesignVariableNode(\"x6\", bounds=(0, 1))),\n",
    "        # (n[11], DesignVariableNode('x7', options=(\"0\", \"1\"))),\n",
    "    ]\n",
    ")\n",
    "\n",
    "choiceo = adsg.add_selection_choice(\n",
    "    \"Activation_Choice\",\n",
    "    n[2],\n",
    "    [NamedNode(\"ReLU\"), NamedNode(\"Sigmoid\"), NamedNode(\"Tanh\")],\n",
    ")\n",
    "\n",
    "adsg = adsg.set_start_nodes(start_nodes)\n",
    "adsg.render()"
   ]
  },
  {
   "cell_type": "code",
   "execution_count": null,
   "metadata": {},
   "outputs": [],
   "source": [
    "from adsg_core import GraphProcessor\n",
    "\n",
    "gp = GraphProcessor(adsg)\n",
    "\n",
    "print(\"Design variables:\", gp.des_vars[0:5])\n",
    "print(str(gp.des_vars[5:])[1:])\n",
    "print(\"Objectives:\", gp.objectives)\n",
    "print(\"Constraints:\", gp.constraints)\n",
    "\n",
    "# Display some details about the encoders used for\n",
    "# formulating the optimization problem\n",
    "gp.get_statistics()"
   ]
  },
  {
   "cell_type": "code",
   "execution_count": null,
   "metadata": {},
   "outputs": [],
   "source": [
    "design_space = ArchDesignSpaceGraph(adsg=adsg)\n",
    "design_space._sample_valid_x(1, return_render=True)[2][0].render()"
   ]
  },
  {
   "cell_type": "code",
   "execution_count": null,
   "metadata": {},
   "outputs": [],
   "source": [
    "# Define the mixed hierarchical design space\n",
    "design_space = DesignSpace(\n",
    "    [\n",
    "        FloatVariable(0, 1),  # Learning rate\n",
    "        CategoricalVariable(\n",
    "            [\"ReLU\", \"Sigmoid\", \"Tanh\"]\n",
    "        ),  # 3 possible choices for the activation function\n",
    "        CategoricalVariable([\"ASGD\", \"Adam\"]),  # 2 possible choices for the optimizer\n",
    "        FloatVariable(0, 1),  # ASGD Decay\n",
    "        FloatVariable(0, 1),  # ASGD Power update\n",
    "        FloatVariable(0, 1),  # ASGD Average start\n",
    "        FloatVariable(0, 1),  # Adam Running Average 1\n",
    "        FloatVariable(0, 1),  # Adam Running Average 2\n",
    "        FloatVariable(0, 1),  # Adam Numerical Stability\n",
    "        IntegerVariable(1, 3),  # for the number of hidden layers  (l=x9)\n",
    "        OrdinalVariable(\n",
    "            [\"25\", \"30\", \"35\", \"40\", \"45\"]\n",
    "        ),  # number of hidden neurons layer 1\n",
    "        OrdinalVariable(\n",
    "            [\"25\", \"30\", \"35\", \"40\", \"45\"]\n",
    "        ),  # number of hidden neurons layer 2\n",
    "        OrdinalVariable(\n",
    "            [\"25\", \"30\", \"35\", \"40\", \"45\"]\n",
    "        ),  # number of hidden neurons layer 3\n",
    "    ]\n",
    ")\n",
    "\n",
    "# ASGD vs Adam optimizer options activated or deactivated\n",
    "design_space.declare_decreed_var(decreed_var=3, meta_var=2, meta_value=[\"ASGD\"])\n",
    "design_space.declare_decreed_var(decreed_var=4, meta_var=2, meta_value=[\"ASGD\"])\n",
    "design_space.declare_decreed_var(decreed_var=5, meta_var=2, meta_value=[\"ASGD\"])\n",
    "design_space.declare_decreed_var(decreed_var=6, meta_var=2, meta_value=[\"Adam\"])\n",
    "design_space.declare_decreed_var(decreed_var=7, meta_var=2, meta_value=[\"Adam\"])\n",
    "design_space.declare_decreed_var(decreed_var=8, meta_var=2, meta_value=[\"Adam\"])\n",
    "\n",
    "# Number of hidden layers: Activate x11 when x9 in [2, 3] and x12 when x9 == 3\n",
    "design_space.add_value_constraint(\n",
    "    var1=9, value1=3, var2=2, value2=[\"Adam\"]\n",
    ")  # Forbid 3 hidden layers with Adam\n",
    "design_space.declare_decreed_var(decreed_var=10, meta_var=9, meta_value=[1, 2, 3])\n",
    "design_space.declare_decreed_var(decreed_var=11, meta_var=9, meta_value=[2, 3])\n",
    "design_space.declare_decreed_var(decreed_var=12, meta_var=9, meta_value=3)\n",
    "design_space.add_value_constraint(\n",
    "    var1=10, value1=[\"40\", \"45\"], var2=2, value2=[\"ASGD\"]\n",
    ")  # Forbid more than 35 neurons with ASGD\n",
    "design_space.add_value_constraint(\n",
    "    var1=11, value1=[\"40\", \"45\"], var2=2, value2=[\"ASGD\"]\n",
    ")  # Forbid more than 35 neurons with ASGD\n",
    "design_space.add_value_constraint(\n",
    "    var1=12, value1=[\"40\", \"45\"], var2=2, value2=[\"ASGD\"]\n",
    ")  # Forbid more than 35 neurons with ASGD"
   ]
  }
 ],
 "metadata": {
  "colab": {
   "include_colab_link": true,
   "name": "SMT_DesignSpace_example.ipynb",
   "provenance": []
  },
  "kernelspec": {
   "display_name": "Python 3 (ipykernel)",
   "language": "python",
   "name": "python3"
  },
  "language_info": {
   "codemirror_mode": {
    "name": "ipython",
    "version": 3
   },
   "file_extension": ".py",
   "mimetype": "text/x-python",
   "name": "python",
   "nbconvert_exporter": "python",
   "pygments_lexer": "ipython3",
   "version": "3.9.18"
  }
 },
 "nbformat": 4,
 "nbformat_minor": 4
}
