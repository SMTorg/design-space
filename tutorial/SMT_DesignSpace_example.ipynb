{
 "cells": [
  {
   "cell_type": "markdown",
   "metadata": {
    "colab_type": "text",
    "id": "view-in-github"
   },
   "source": [
    "<a href=\"https://colab.research.google.com/github/SMTorg/smt-design-space-ext/blob/master/tutorial/SMT_DesignSpace_example.ipynb\" target=\"_parent\"><img src=\"https://colab.research.google.com/assets/colab-badge.svg\" alt=\"Open In Colab\"/></a>"
   ]
  },
  {
   "cell_type": "markdown",
   "metadata": {
    "id": "mDCpNW2-mu3w"
   },
   "source": [
    "<div class=\"jumbotron text-left\"><b>\n",
    "    \n",
    "This tutorial describes how to use de DesignSpace within the SMT toolbox. \n",
    "<div>\n",
    "    \n",
    "    October 2024 - `SMT version 2.7.0`\n",
    "  \n",
    "     Paul Saves, Jasper Bussemaker (DLR), and Nathalie BARTOLI (ONERA/DTIS/M2CI)"
   ]
  },
  {
   "cell_type": "markdown",
   "metadata": {},
   "source": [
    "<div class=\"alert alert-info fade in\" id=\"d110\">\n",
    "<p>Some updates</p>\n",
    "<ol> -  Manipulation of mixed DOE (continuous, integer,  categorical and hierarchical variables) </ol>\n",
    "</div>"
   ]
  },
  {
   "cell_type": "markdown",
   "metadata": {
    "id": "gDeEbi7nmu32"
   },
   "source": [
    "<p class=\"alert alert-success\" style=\"padding:1em\">\n",
    "To use SMT models, please follow this link : https://github.com/SMTorg/SMT/blob/master/README.md. The documentation is available here: http://smt.readthedocs.io/en/latest/\n",
    "</p>\n",
    "\n",
    "The reference paper is available \n",
    "here https://www.sciencedirect.com/science/article/pii/S096599782300162X\n",
    "\n"
   ]
  },
  {
   "cell_type": "markdown",
   "metadata": {
    "id": "uU32V-7bmu33"
   },
   "source": [
    "For mixed integer with continuous relaxation, the reference paper is available here https://www.sciencedirect.com/science/article/pii/S0925231219315619"
   ]
  },
  {
   "cell_type": "code",
   "execution_count": 1,
   "metadata": {
    "colab": {
     "base_uri": "https://localhost:8080/",
     "height": 1000
    },
    "id": "EweBFT9Ap8Ay",
    "outputId": "4c016eb0-6a75-46f7-d2db-c4ff17ec284a"
   },
   "outputs": [
    {
     "name": "stdout",
     "output_type": "stream",
     "text": [
      "Collecting smt\n",
      "Requirement already satisfied: joblib>=1.2.0 in /stck/psaves/miniconda3/envs/newenv1/lib/python3.9/site-packages (from scikit-learn->smt) (1.4.2)\n",
      "Requirement already satisfied: threadpoolctl>=3.1.0 in /stck/psaves/miniconda3/envs/newenv1/lib/python3.9/site-packages (from scikit-learn->smt) (3.5.0)\n",
      "Requirement already satisfied: attrs>=22.2.0 in /stck/psaves/miniconda3/envs/newenv1/lib/python3.9/site-packages (from jsonschema>=4.22->jenn->smt) (23.1.0)\n",
      "Requirement already satisfied: jsonschema-specifications>=2023.03.6 in /stck/psaves/miniconda3/envs/newenv1/lib/python3.9/site-packages (from jsonschema>=4.22->jenn->smt) (2023.12.1)\n",
      "Requirement already satisfied: referencing>=0.28.4 in /stck/psaves/miniconda3/envs/newenv1/lib/python3.9/site-packages (from jsonschema>=4.22->jenn->smt) (0.35.1)\n",
      "Requirement already satisfied: rpds-py>=0.7.1 in /stck/psaves/miniconda3/envs/newenv1/lib/python3.9/site-packages (from jsonschema>=4.22->jenn->smt) (0.18.1)\n",
      "^C\n",
      "\u001b[31mERROR: Operation cancelled by user\u001b[0m\u001b[31m\n",
      "\u001b[0m^C\n",
      "Traceback (most recent call last):\n",
      "  File \"/stck/psaves/miniconda3/envs/newenv1/bin/pip\", line 5, in <module>\n",
      "    from pip._internal.cli.main import main\n",
      "  File \"/stck/psaves/miniconda3/envs/newenv1/lib/python3.9/site-packages/pip/_internal/cli/main.py\", line 11, in <module>\n",
      "    from pip._internal.cli.autocompletion import autocomplete\n",
      "  File \"/stck/psaves/miniconda3/envs/newenv1/lib/python3.9/site-packages/pip/_internal/cli/autocompletion.py\", line 10, in <module>\n",
      "    from pip._internal.cli.main_parser import create_main_parser\n",
      "  File \"/stck/psaves/miniconda3/envs/newenv1/lib/python3.9/site-packages/pip/_internal/cli/main_parser.py\", line 9, in <module>\n",
      "    from pip._internal.build_env import get_runnable_pip\n",
      "  File \"/stck/psaves/miniconda3/envs/newenv1/lib/python3.9/site-packages/pip/_internal/build_env.py\", line 18, in <module>\n",
      "    from pip._internal.cli.spinners import open_spinner\n",
      "  File \"/stck/psaves/miniconda3/envs/newenv1/lib/python3.9/site-packages/pip/_internal/cli/spinners.py\", line 9, in <module>\n",
      "    from pip._internal.utils.logging import get_indentation\n",
      "  File \"/stck/psaves/miniconda3/envs/newenv1/lib/python3.9/site-packages/pip/_internal/utils/logging.py\", line 13, in <module>\n",
      "    from pip._vendor.rich.console import (\n",
      "  File \"/stck/psaves/miniconda3/envs/newenv1/lib/python3.9/site-packages/pip/_vendor/rich/console.py\", line 60, in <module>\n",
      "    from .pretty import Pretty, is_expandable\n",
      "  File \"/stck/psaves/miniconda3/envs/newenv1/lib/python3.9/site-packages/pip/_vendor/rich/pretty.py\", line 31, in <module>\n",
      "    import attr as _attr_module\n",
      "  File \"/stck/psaves/miniconda3/envs/newenv1/lib/python3.9/site-packages/attr/__init__.py\", line 26, in <module>\n",
      "    from ._version_info import VersionInfo\n",
      "  File \"/stck/psaves/miniconda3/envs/newenv1/lib/python3.9/site-packages/attr/_version_info.py\", line 12, in <module>\n",
      "    class VersionInfo:\n",
      "  File \"/stck/psaves/miniconda3/envs/newenv1/lib/python3.9/site-packages/attr/_make.py\", line 1524, in wrap\n",
      "    builder.add_repr(repr_ns)\n",
      "  File \"/stck/psaves/miniconda3/envs/newenv1/lib/python3.9/site-packages/attr/_make.py\", line 903, in add_repr\n",
      "    _make_repr(self._attrs, ns, self._cls)\n",
      "  File \"/stck/psaves/miniconda3/envs/newenv1/lib/python3.9/site-packages/attr/_make.py\", line 1893, in _make_repr\n",
      "    return _make_method(\n",
      "  File \"/stck/psaves/miniconda3/envs/newenv1/lib/python3.9/site-packages/attr/_make.py\", line 330, in _make_method\n",
      "    _compile_and_eval(script, globs, locs, filename)\n",
      "  File \"/stck/psaves/miniconda3/envs/newenv1/lib/python3.9/site-packages/attr/_make.py\", line 302, in _compile_and_eval\n",
      "    bytecode = compile(script, filename, \"exec\")\n",
      "KeyboardInterrupt\n",
      "Collecting git+https://github.com/jbussemaker/adsg-core.git@dev\n",
      "  Cloning https://github.com/jbussemaker/adsg-core.git (to revision dev) to /tmp/pip-req-build-rp55lefs\n",
      "  Running command git clone --filter=blob:none --quiet https://github.com/jbussemaker/adsg-core.git /tmp/pip-req-build-rp55lefs\n",
      "  Running command git checkout -b dev --track origin/dev\n",
      "  Switched to a new branch 'dev'\n",
      "  Branch 'dev' set up to track remote branch 'dev' from 'origin'.\n",
      "  Resolved https://github.com/jbussemaker/adsg-core.git to commit bc6a9f0a2b362b09cec9c8d63c18372e28477507\n",
      "  Installing build dependencies ... \u001b[?25ldone\n",
      "\u001b[?25h  Getting requirements to build wheel ... \u001b[?25ldone\n",
      "\u001b[?25h  Preparing metadata (pyproject.toml) ... \u001b[?25ldone\n",
      "\u001b[?25hRequirement already satisfied: networkx~=2.6 in /stck/psaves/miniconda3/envs/newenv1/lib/python3.9/site-packages (from adsg-core==1.1.1) (2.8.8)\n",
      "Requirement already satisfied: lxml in /stck/psaves/miniconda3/envs/newenv1/lib/python3.9/site-packages (from adsg-core==1.1.1) (5.3.0)\n",
      "Requirement already satisfied: pydot in /stck/psaves/miniconda3/envs/newenv1/lib/python3.9/site-packages (from adsg-core==1.1.1) (3.0.1)\n",
      "Requirement already satisfied: cached-property>=1.5 in /stck/psaves/miniconda3/envs/newenv1/lib/python3.9/site-packages (from adsg-core==1.1.1) (1.5.2)\n",
      "Requirement already satisfied: appdirs in /stck/psaves/miniconda3/envs/newenv1/lib/python3.9/site-packages (from adsg-core==1.1.1) (1.4.4)\n",
      "Requirement already satisfied: numpy<2.0 in /stck/psaves/miniconda3/envs/newenv1/lib/python3.9/site-packages (from adsg-core==1.1.1) (1.26.4)\n",
      "Requirement already satisfied: scipy~=1.9 in /stck/psaves/miniconda3/envs/newenv1/lib/python3.9/site-packages (from adsg-core==1.1.1) (1.13.1)\n",
      "Requirement already satisfied: pandas in /stck/psaves/miniconda3/envs/newenv1/lib/python3.9/site-packages (from adsg-core==1.1.1) (2.2.2)\n",
      "Requirement already satisfied: numba~=0.56 in /stck/psaves/miniconda3/envs/newenv1/lib/python3.9/site-packages (from adsg-core==1.1.1) (0.60.0)\n",
      "Requirement already satisfied: llvmlite<0.44,>=0.43.0dev0 in /stck/psaves/miniconda3/envs/newenv1/lib/python3.9/site-packages (from numba~=0.56->adsg-core==1.1.1) (0.43.0)\n",
      "Requirement already satisfied: python-dateutil>=2.8.2 in /stck/psaves/miniconda3/envs/newenv1/lib/python3.9/site-packages (from pandas->adsg-core==1.1.1) (2.9.0.post0)\n",
      "Requirement already satisfied: pytz>=2020.1 in /stck/psaves/miniconda3/envs/newenv1/lib/python3.9/site-packages (from pandas->adsg-core==1.1.1) (2024.2)\n",
      "Requirement already satisfied: tzdata>=2022.7 in /stck/psaves/miniconda3/envs/newenv1/lib/python3.9/site-packages (from pandas->adsg-core==1.1.1) (2024.2)\n",
      "Requirement already satisfied: pyparsing>=3.0.9 in /stck/psaves/miniconda3/envs/newenv1/lib/python3.9/site-packages (from pydot->adsg-core==1.1.1) (3.1.4)\n",
      "Requirement already satisfied: six>=1.5 in /stck/psaves/miniconda3/envs/newenv1/lib/python3.9/site-packages (from python-dateutil>=2.8.2->pandas->adsg-core==1.1.1) (1.16.0)\n",
      "Collecting smt-design-space-ext\n",
      "  Downloading smt_design_space_ext-0.2.2.tar.gz (11 kB)\n",
      "  Preparing metadata (setup.py) ... \u001b[?25ldone\n",
      "\u001b[?25hRequirement already satisfied: numpy in /stck/psaves/miniconda3/envs/newenv1/lib/python3.9/site-packages (from smt-design-space-ext) (1.26.4)\n",
      "Collecting smt (from smt-design-space-ext)\n",
      "  Using cached smt-2.7.0-cp39-cp39-manylinux_2_17_x86_64.manylinux2014_x86_64.whl.metadata (2.1 kB)\n",
      "Requirement already satisfied: ConfigSpace==0.6.1 in /stck/psaves/miniconda3/envs/newenv1/lib/python3.9/site-packages (from smt-design-space-ext) (0.6.1)\n",
      "Requirement already satisfied: adsg-core==1.1.1 in /stck/psaves/miniconda3/envs/newenv1/lib/python3.9/site-packages (from smt-design-space-ext) (1.1.1)\n",
      "Requirement already satisfied: networkx~=2.6 in /stck/psaves/miniconda3/envs/newenv1/lib/python3.9/site-packages (from adsg-core==1.1.1->smt-design-space-ext) (2.8.8)\n",
      "Requirement already satisfied: lxml in /stck/psaves/miniconda3/envs/newenv1/lib/python3.9/site-packages (from adsg-core==1.1.1->smt-design-space-ext) (5.3.0)\n",
      "Requirement already satisfied: pydot in /stck/psaves/miniconda3/envs/newenv1/lib/python3.9/site-packages (from adsg-core==1.1.1->smt-design-space-ext) (3.0.1)\n",
      "Requirement already satisfied: cached-property>=1.5 in /stck/psaves/miniconda3/envs/newenv1/lib/python3.9/site-packages (from adsg-core==1.1.1->smt-design-space-ext) (1.5.2)\n",
      "Requirement already satisfied: appdirs in /stck/psaves/miniconda3/envs/newenv1/lib/python3.9/site-packages (from adsg-core==1.1.1->smt-design-space-ext) (1.4.4)\n",
      "Requirement already satisfied: scipy~=1.9 in /stck/psaves/miniconda3/envs/newenv1/lib/python3.9/site-packages (from adsg-core==1.1.1->smt-design-space-ext) (1.13.1)\n",
      "Requirement already satisfied: pandas in /stck/psaves/miniconda3/envs/newenv1/lib/python3.9/site-packages (from adsg-core==1.1.1->smt-design-space-ext) (2.2.2)\n",
      "Requirement already satisfied: numba~=0.56 in /stck/psaves/miniconda3/envs/newenv1/lib/python3.9/site-packages (from adsg-core==1.1.1->smt-design-space-ext) (0.60.0)\n",
      "Requirement already satisfied: pyparsing in /stck/psaves/miniconda3/envs/newenv1/lib/python3.9/site-packages (from ConfigSpace==0.6.1->smt-design-space-ext) (3.1.4)\n",
      "Requirement already satisfied: typing-extensions in /stck/psaves/miniconda3/envs/newenv1/lib/python3.9/site-packages (from ConfigSpace==0.6.1->smt-design-space-ext) (4.12.2)\n",
      "Requirement already satisfied: more-itertools in /stck/psaves/miniconda3/envs/newenv1/lib/python3.9/site-packages (from ConfigSpace==0.6.1->smt-design-space-ext) (10.5.0)\n",
      "Requirement already satisfied: scikit-learn in /stck/psaves/miniconda3/envs/newenv1/lib/python3.9/site-packages (from smt->smt-design-space-ext) (1.5.2)\n",
      "Requirement already satisfied: pyDOE3 in /stck/psaves/miniconda3/envs/newenv1/lib/python3.9/site-packages (from smt->smt-design-space-ext) (1.0.3)\n",
      "Requirement already satisfied: jenn in /stck/psaves/miniconda3/envs/newenv1/lib/python3.9/site-packages (from smt->smt-design-space-ext) (1.0.6)\n",
      "Requirement already satisfied: llvmlite<0.44,>=0.43.0dev0 in /stck/psaves/miniconda3/envs/newenv1/lib/python3.9/site-packages (from numba~=0.56->adsg-core==1.1.1->smt-design-space-ext) (0.43.0)\n",
      "Requirement already satisfied: jsonpointer>=2.4 in /stck/psaves/miniconda3/envs/newenv1/lib/python3.9/site-packages (from jenn->smt->smt-design-space-ext) (3.0.0)\n",
      "Requirement already satisfied: jsonschema>=4.22 in /stck/psaves/miniconda3/envs/newenv1/lib/python3.9/site-packages (from jenn->smt->smt-design-space-ext) (4.22.0)\n",
      "Requirement already satisfied: orjson>=3.9 in /stck/psaves/miniconda3/envs/newenv1/lib/python3.9/site-packages (from jenn->smt->smt-design-space-ext) (3.10.6)\n"
     ]
    },
    {
     "name": "stdout",
     "output_type": "stream",
     "text": [
      "Requirement already satisfied: python-dateutil>=2.8.2 in /stck/psaves/miniconda3/envs/newenv1/lib/python3.9/site-packages (from pandas->adsg-core==1.1.1->smt-design-space-ext) (2.9.0.post0)\n",
      "Requirement already satisfied: pytz>=2020.1 in /stck/psaves/miniconda3/envs/newenv1/lib/python3.9/site-packages (from pandas->adsg-core==1.1.1->smt-design-space-ext) (2024.2)\n",
      "Requirement already satisfied: tzdata>=2022.7 in /stck/psaves/miniconda3/envs/newenv1/lib/python3.9/site-packages (from pandas->adsg-core==1.1.1->smt-design-space-ext) (2024.2)\n",
      "Requirement already satisfied: joblib>=1.2.0 in /stck/psaves/miniconda3/envs/newenv1/lib/python3.9/site-packages (from scikit-learn->smt->smt-design-space-ext) (1.4.2)\n",
      "Requirement already satisfied: threadpoolctl>=3.1.0 in /stck/psaves/miniconda3/envs/newenv1/lib/python3.9/site-packages (from scikit-learn->smt->smt-design-space-ext) (3.5.0)\n",
      "Requirement already satisfied: attrs>=22.2.0 in /stck/psaves/miniconda3/envs/newenv1/lib/python3.9/site-packages (from jsonschema>=4.22->jenn->smt->smt-design-space-ext) (23.1.0)\n",
      "Requirement already satisfied: jsonschema-specifications>=2023.03.6 in /stck/psaves/miniconda3/envs/newenv1/lib/python3.9/site-packages (from jsonschema>=4.22->jenn->smt->smt-design-space-ext) (2023.12.1)\n",
      "Requirement already satisfied: referencing>=0.28.4 in /stck/psaves/miniconda3/envs/newenv1/lib/python3.9/site-packages (from jsonschema>=4.22->jenn->smt->smt-design-space-ext) (0.35.1)\n",
      "Requirement already satisfied: rpds-py>=0.7.1 in /stck/psaves/miniconda3/envs/newenv1/lib/python3.9/site-packages (from jsonschema>=4.22->jenn->smt->smt-design-space-ext) (0.18.1)\n",
      "Requirement already satisfied: six>=1.5 in /stck/psaves/miniconda3/envs/newenv1/lib/python3.9/site-packages (from python-dateutil>=2.8.2->pandas->adsg-core==1.1.1->smt-design-space-ext) (1.16.0)\n",
      "Using cached smt-2.7.0-cp39-cp39-manylinux_2_17_x86_64.manylinux2014_x86_64.whl (847 kB)\n",
      "Building wheels for collected packages: smt-design-space-ext\n",
      "  Building wheel for smt-design-space-ext (setup.py) ... \u001b[?25ldone\n",
      "\u001b[?25h  Created wheel for smt-design-space-ext: filename=smt_design_space_ext-0.2.2-py3-none-any.whl size=11819 sha256=a411eeebc970b77d4c9089ba769861fc84d722831f48d53a1b98a548d83b4e0a\n",
      "  Stored in directory: /stck/psaves/.cache/pip/wheels/d9/39/99/cede0421a667cbd9190b0cd3ac65cdce23386b6255ff36dc39\n",
      "Successfully built smt-design-space-ext\n",
      "Installing collected packages: smt, smt-design-space-ext\n",
      "\u001b[31mERROR: pip's dependency resolver does not currently take into account all the packages that are installed. This behaviour is the source of the following dependency conflicts.\n",
      "segomoe 6.2.0 requires numpy==1.23.5, but you have numpy 1.26.4 which is incompatible.\n",
      "segomoe 6.2.0 requires scikit-learn==1.4.0, but you have scikit-learn 1.5.2 which is incompatible.\n",
      "segomoe 6.2.0 requires scipy==1.11.3, but you have scipy 1.13.1 which is incompatible.\u001b[0m\u001b[31m\n",
      "\u001b[0mSuccessfully installed smt-2.7.0 smt-design-space-ext-0.2.2\n"
     ]
    }
   ],
   "source": [
    "# to have the latest version\n",
    "!pip install smt --pre\n",
    "\n",
    "!pip install configspace==0.6.1\n",
    "!pip install git+https://github.com/jbussemaker/adsg-core.git@dev\n",
    "!pip install smt-design-space-ext"
   ]
  },
  {
   "cell_type": "markdown",
   "metadata": {},
   "source": [
    "<div class=\"alert alert-warning\" >\n",
    "If you use hierarchical variables and the size of your doe greater than 30 points, you may leverage the `numba` JIT compiler to speed up the computation\n",
    "To do so:\n",
    "    \n",
    " - install numba library\n",
    "    \n",
    "     `pip install numba`\n",
    "    \n",
    "    \n",
    " - and define the environment variable `USE_NUMBA_JIT = 1` (unset or 0 if you do not want to use numba) \n",
    "    \n",
    "     - Linux: export USE_NUMBA_JIT = 1\n",
    "    \n",
    "     - Windows: set USE_NUMBA_JIT = 1\n",
    "\n",
    "</div>"
   ]
  },
  {
   "cell_type": "code",
   "execution_count": 43,
   "metadata": {},
   "outputs": [],
   "source": [
    "%matplotlib inline\n",
    "from smt import design_space\n",
    "\n",
    "from smt_design_space_ext import (\n",
    "    AdsgDesignSpaceImpl,\n",
    "    ConfigSpaceDesignSpaceImpl,\n",
    "    DesignSpace,\n",
    "    FloatVariable,\n",
    "    IntegerVariable,\n",
    "    OrdinalVariable,\n",
    "    CategoricalVariable,\n",
    ")\n",
    "\n",
    "import plotly.io as pio\n",
    "\n",
    "# to ignore warning messages\n",
    "import warnings\n",
    "\n",
    "warnings.filterwarnings(\"ignore\")\n",
    "\n",
    "pio.renderers.default = \"notebook\""
   ]
  },
  {
   "cell_type": "markdown",
   "metadata": {
    "id": "aggEHXHmmu4I"
   },
   "source": [
    "# Manipulate DOE with mixed, categorical & hierarchical variables"
   ]
  },
  {
   "cell_type": "markdown",
   "metadata": {
    "id": "dvVSDE-omu4I"
   },
   "source": [
    "4 variables \n",
    " - 1 categorical variable with 2 labels ['A', 'B'] # x0 categorical: A or B; order is not relevant\n",
    " - 1 ordinal variable with 3 levels ['C', 'D', 'E']),  # x1 ordinal: C, D or E; order is relevant\n",
    " - 1 integer variable [0,2]: 3 possibilities: 0, 1, 2\n",
    " - 1 continuous variable $\\in [0, 1]$\n",
    " \n",
    " \n",
    " **Posssibility to have hierarchical variable: x1 exists only if x0 = 'A'**"
   ]
  },
  {
   "cell_type": "code",
   "execution_count": 44,
   "metadata": {},
   "outputs": [
    {
     "name": "stdout",
     "output_type": "stream",
     "text": [
      "Number of design variables 4\n"
     ]
    }
   ],
   "source": [
    "# Instantiate the design space with all its design variables:\n",
    "\n",
    "ds = DesignSpace(\n",
    "    [\n",
    "        CategoricalVariable(\n",
    "            [\"A\", \"B\"]\n",
    "        ),  # x0 categorical: A or B; order is not relevant\n",
    "        OrdinalVariable([\"C\", \"D\", \"E\"]),  # x1 ordinal: C, D or E; order is relevant\n",
    "        IntegerVariable(0, 2),  # x2 integer between 0 and 2 (inclusive): 0, 1, 2\n",
    "        FloatVariable(0, 1),  # c3 continuous between 0 and 1\n",
    "    ]\n",
    ")\n",
    "\n",
    "print(\"Number of design variables\", len(ds.design_variables))\n",
    "# You can define decreed variables (conditional activation):\n",
    "ds.declare_decreed_var(\n",
    "    decreed_var=1, meta_var=0, meta_value=\"A\"\n",
    ")  # Activate x1 if x0 == A"
   ]
  },
  {
   "cell_type": "code",
   "execution_count": 45,
   "metadata": {},
   "outputs": [
    {
     "name": "stdout",
     "output_type": "stream",
     "text": [
      "Data encoded: \n",
      " [[0.         1.         2.         0.28355776]\n",
      " [1.         0.         1.         0.98819894]\n",
      " [1.         0.         0.         0.02769798]\n",
      " [0.         2.         2.         0.7912921 ]\n",
      " [0.         1.         0.         0.55319425]]\n",
      "Data in initial space: \n",
      " [['A', 'D', 2.0, 0.2835577607189896], ['B', 'C', 1.0, 0.988198943201518], ['B', 'C', 0.0, 0.027697983205961108], ['A', 'E', 2.0, 0.7912921020722401], ['A', 'D', 0.0, 0.5531942486982553]]\n"
     ]
    }
   ],
   "source": [
    "## To give some examples\n",
    "# It is also possible to randomly sample design vectors conforming to the constraints:\n",
    "n = 5\n",
    "x_sampled, is_acting_sampled = ds.sample_valid_x(5)\n",
    "\n",
    "print(\"Data encoded: \\n\", x_sampled)\n",
    "print(\"Data in initial space: \\n\", ds.decode_values(x_sampled))"
   ]
  },
  {
   "cell_type": "code",
   "execution_count": 46,
   "metadata": {},
   "outputs": [
    {
     "name": "stdout",
     "output_type": "stream",
     "text": [
      "Which variables are active \n",
      " [[ True  True  True  True]\n",
      " [ True False  True  True]\n",
      " [ True False  True  True]\n",
      " [ True  True  True  True]\n",
      " [ True  True  True  True]]\n"
     ]
    }
   ],
   "source": [
    "# After defining everything correctly, you can then use the design space object\n",
    "# to correct design vectors and get information about which design variables are acting:\n",
    "x_corr, is_acting = ds.correct_get_acting(x_sampled)\n",
    "print(\"Which variables are active \\n\", is_acting)"
   ]
  },
  {
   "cell_type": "code",
   "execution_count": 47,
   "metadata": {},
   "outputs": [
    {
     "name": "stdout",
     "output_type": "stream",
     "text": [
      "Limits of each variable \n",
      " [['A', 'B'], ['0', '1', '2'], (0, 2), (0, 1)]\n",
      "Continuous bounds with the encoding done (4 variables now) \n",
      " [[0 1]\n",
      " [0 2]\n",
      " [0 2]\n",
      " [0 1]]\n",
      "Continuous bounds with the unfolded encoding done (5 variables now)\n",
      " [[0. 1.]\n",
      " [0. 1.]\n",
      " [0. 2.]\n",
      " [0. 2.]\n",
      " [0. 1.]]\n"
     ]
    }
   ],
   "source": [
    "# If needed, it is possible to get the legacy design space definition format:\n",
    "xlimits = ds.get_x_limits()\n",
    "cont_bounds = ds.get_num_bounds()\n",
    "unfolded_cont_bounds = ds.get_unfolded_num_bounds()\n",
    "print(\"Limits of each variable \\n\", xlimits)\n",
    "print(\"Continuous bounds with the encoding done (4 variables now) \\n\", cont_bounds)\n",
    "print(\n",
    "    \"Continuous bounds with the unfolded encoding done (5 variables now)\\n\",\n",
    "    unfolded_cont_bounds,\n",
    ")"
   ]
  },
  {
   "cell_type": "markdown",
   "metadata": {},
   "source": [
    "# Manipulate DOE with continuous variables"
   ]
  },
  {
   "cell_type": "code",
   "execution_count": 48,
   "metadata": {},
   "outputs": [
    {
     "name": "stdout",
     "output_type": "stream",
     "text": [
      "Number of design variables = 3  or  3\n"
     ]
    }
   ],
   "source": [
    "# You can also instantiate a purely-continuous design space from bounds directly:\n",
    "continuous_design_space = DesignSpace([(0, 1), (0, 2), (0.5, 5.5)])\n",
    "print(\n",
    "    \"Number of design variables =\",\n",
    "    continuous_design_space.n_dv,\n",
    "    \" or \",\n",
    "    len(continuous_design_space.design_variables),\n",
    ")"
   ]
  },
  {
   "cell_type": "code",
   "execution_count": 49,
   "metadata": {},
   "outputs": [],
   "source": [
    "x_sampled_cont, is_acting_sampled_cont = continuous_design_space.sample_valid_x(5)"
   ]
  },
  {
   "cell_type": "code",
   "execution_count": 50,
   "metadata": {},
   "outputs": [
    {
     "name": "stdout",
     "output_type": "stream",
     "text": [
      "Data encoded: \n",
      " [[0.5303636  0.91341189 0.65019671]\n",
      " [0.1504166  0.29280583 3.21956755]\n",
      " [0.33103296 1.51096677 3.88448651]\n",
      " [0.83721326 1.69921962 1.95599677]\n",
      " [0.67048671 0.68810818 4.70005179]]\n",
      "Is_acting: \n",
      " [[ True  True  True]\n",
      " [ True  True  True]\n",
      " [ True  True  True]\n",
      " [ True  True  True]\n",
      " [ True  True  True]]\n"
     ]
    }
   ],
   "source": [
    "print(\"Data encoded: \\n\", x_sampled_cont)\n",
    "print(\"Is_acting: \\n\", is_acting_sampled_cont)"
   ]
  },
  {
   "cell_type": "markdown",
   "metadata": {},
   "source": [
    "# Moving towards Architecture Design Space Graph (ADSG)"
   ]
  },
  {
   "cell_type": "markdown",
   "metadata": {},
   "source": [
    "## First, let use ADSG"
   ]
  },
  {
   "cell_type": "code",
   "execution_count": 51,
   "metadata": {},
   "outputs": [
    {
     "data": {
      "text/html": [
       "<div id=\"94f5f77aa3384b2d9dbf29b13b3d3fab\"></div>\n",
       "<script type=\"text/javascript\" src=\"https://cdn.jsdelivr.net/npm/@viz-js/viz@3.8.0/lib/viz-standalone.js\"></script>\n",
       "<script type=\"text/javascript\">\n",
       "(function() {\n",
       "  var dot = \"strict digraph  {\\nrankdir=LR;\\ndpi=60;\\nfontsize=20;\\n0 [label=<<B>Learning_rate</B>>, style=\\\"filled,bold\\\", fillcolor=\\\"#ffffff\\\", shape=ellipse, margin=0.05];\\n1 [label=\\\"x0  [0 .. 1]\\\", style=\\\"filled\\\", fillcolor=\\\"#DCE775\\\", shape=ellipse, margin=0.05];\\n2 [label=<<B>Activation_function</B>>, style=\\\"filled,bold\\\", fillcolor=\\\"#ffffff\\\", shape=ellipse, margin=0.05];\\n3 [label=\\\"Activation_Choice\\\", style=\\\"filled\\\", fillcolor=\\\"#81D4FA\\\", shape=ellipse, margin=0.05];\\n4 [label=\\\"ReLU\\\", style=\\\"filled\\\", fillcolor=\\\"#ffffff\\\", shape=ellipse, margin=0.05];\\n5 [label=\\\"Sigmoid\\\", style=\\\"filled\\\", fillcolor=\\\"#ffffff\\\", shape=ellipse, margin=0.05];\\n6 [label=\\\"Tanh\\\", style=\\\"filled\\\", fillcolor=\\\"#ffffff\\\", shape=ellipse, margin=0.05];\\n7 [label=<<B>Optimizer</B>>, style=\\\"filled,bold\\\", fillcolor=\\\"#ffffff\\\", shape=ellipse, margin=0.05];\\n8 [label=\\\"Nb_layers\\\", style=\\\"filled\\\", fillcolor=\\\"#ffffff\\\", shape=ellipse, margin=0.05];\\n9 [label=\\\"Optimizer_Choice\\\", style=\\\"filled\\\", fillcolor=\\\"#81D4FA\\\", shape=ellipse, margin=0.05];\\n10 [label=\\\"#layers\\\", style=\\\"filled\\\", fillcolor=\\\"#81D4FA\\\", shape=ellipse, margin=0.05];\\n11 [label=\\\"ASGD\\\", style=\\\"filled\\\", fillcolor=\\\"#ffffff\\\", shape=ellipse, margin=0.05];\\n12 [label=\\\"Adam\\\", style=\\\"filled\\\", fillcolor=\\\"#ffffff\\\", shape=ellipse, margin=0.05];\\n13 [label=\\\"Layer_1\\\", style=\\\"filled\\\", fillcolor=\\\"#ffffff\\\", shape=ellipse, margin=0.05];\\n14 [label=\\\"Layer_2\\\", style=\\\"filled\\\", fillcolor=\\\"#ffffff\\\", shape=ellipse, margin=0.05];\\n15 [label=\\\"Layer_3\\\", style=\\\"filled\\\", fillcolor=\\\"#ffffff\\\", shape=ellipse, margin=0.05];\\n16 [label=\\\"Decay\\\", style=\\\"filled\\\", fillcolor=\\\"#ffffff\\\", shape=ellipse, margin=0.05];\\n17 [label=\\\"Power_update\\\", style=\\\"filled\\\", fillcolor=\\\"#ffffff\\\", shape=ellipse, margin=0.05];\\n18 [label=\\\"Average_start\\\", style=\\\"filled\\\", fillcolor=\\\"#ffffff\\\", shape=ellipse, margin=0.05];\\n19 [label=\\\"40\\\", style=\\\"filled\\\", fillcolor=\\\"#ffffff\\\", shape=ellipse, margin=0.05];\\n20 [label=\\\"45\\\", style=\\\"filled\\\", fillcolor=\\\"#ffffff\\\", shape=ellipse, margin=0.05];\\n21 [label=\\\"40\\\", style=\\\"filled\\\", fillcolor=\\\"#ffffff\\\", shape=ellipse, margin=0.05];\\n22 [label=\\\"45\\\", style=\\\"filled\\\", fillcolor=\\\"#ffffff\\\", shape=ellipse, margin=0.05];\\n23 [label=\\\"40\\\", style=\\\"filled\\\", fillcolor=\\\"#ffffff\\\", shape=ellipse, margin=0.05];\\n24 [label=\\\"45\\\", style=\\\"filled\\\", fillcolor=\\\"#ffffff\\\", shape=ellipse, margin=0.05];\\n25 [label=\\\"x1  [0 .. 1]\\\", style=\\\"filled\\\", fillcolor=\\\"#DCE775\\\", shape=ellipse, margin=0.05];\\n26 [label=\\\"x2  [0 .. 1]\\\", style=\\\"filled\\\", fillcolor=\\\"#DCE775\\\", shape=ellipse, margin=0.05];\\n27 [label=\\\"x3  [0 .. 1]\\\", style=\\\"filled\\\", fillcolor=\\\"#DCE775\\\", shape=ellipse, margin=0.05];\\n28 [label=\\\"Running_Average_1\\\", style=\\\"filled\\\", fillcolor=\\\"#ffffff\\\", shape=ellipse, margin=0.05];\\n29 [label=\\\"Running_Average_2\\\", style=\\\"filled\\\", fillcolor=\\\"#ffffff\\\", shape=ellipse, margin=0.05];\\n30 [label=\\\"Numerical_Stability\\\", style=\\\"filled\\\", fillcolor=\\\"#ffffff\\\", shape=ellipse, margin=0.05];\\n31 [label=\\\"x4  [0 .. 1]\\\", style=\\\"filled\\\", fillcolor=\\\"#DCE775\\\", shape=ellipse, margin=0.05];\\n32 [label=\\\"x5  [0 .. 1]\\\", style=\\\"filled\\\", fillcolor=\\\"#DCE775\\\", shape=ellipse, margin=0.05];\\n33 [label=\\\"x6  [0 .. 1]\\\", style=\\\"filled\\\", fillcolor=\\\"#DCE775\\\", shape=ellipse, margin=0.05];\\n34 [label=\\\"#neurons_1\\\", style=\\\"filled\\\", fillcolor=\\\"#81D4FA\\\", shape=ellipse, margin=0.05];\\n35 [label=\\\"#neurons_2\\\", style=\\\"filled\\\", fillcolor=\\\"#81D4FA\\\", shape=ellipse, margin=0.05];\\n36 [label=\\\"#neurons_3\\\", style=\\\"filled\\\", fillcolor=\\\"#81D4FA\\\", shape=ellipse, margin=0.05];\\n37 [label=\\\"25\\\", style=\\\"filled\\\", fillcolor=\\\"#ffffff\\\", shape=ellipse, margin=0.05];\\n38 [label=\\\"30\\\", style=\\\"filled\\\", fillcolor=\\\"#ffffff\\\", shape=ellipse, margin=0.05];\\n39 [label=\\\"35\\\", style=\\\"filled\\\", fillcolor=\\\"#ffffff\\\", shape=ellipse, margin=0.05];\\n40 [label=\\\"25\\\", style=\\\"filled\\\", fillcolor=\\\"#ffffff\\\", shape=ellipse, margin=0.05];\\n41 [label=\\\"30\\\", style=\\\"filled\\\", fillcolor=\\\"#ffffff\\\", shape=ellipse, margin=0.05];\\n42 [label=\\\"35\\\", style=\\\"filled\\\", fillcolor=\\\"#ffffff\\\", shape=ellipse, margin=0.05];\\n43 [label=\\\"25\\\", style=\\\"filled\\\", fillcolor=\\\"#ffffff\\\", shape=ellipse, margin=0.05];\\n44 [label=\\\"30\\\", style=\\\"filled\\\", fillcolor=\\\"#ffffff\\\", shape=ellipse, margin=0.05];\\n45 [label=\\\"35\\\", style=\\\"filled\\\", fillcolor=\\\"#ffffff\\\", shape=ellipse, margin=0.05];\\n0 -> 1 [type=\\\"EdgeType.DERIVES\\\"];\\n2 -> 3 [type=\\\"EdgeType.DERIVES\\\"];\\n3 -> 4 [type=\\\"EdgeType.DERIVES\\\"];\\n3 -> 5 [type=\\\"EdgeType.DERIVES\\\"];\\n3 -> 6 [type=\\\"EdgeType.DERIVES\\\"];\\n7 -> 8 [type=\\\"EdgeType.DERIVES\\\"];\\n7 -> 9 [type=\\\"EdgeType.DERIVES\\\"];\\n8 -> 10 [type=\\\"EdgeType.DERIVES\\\"];\\n9 -> 11 [type=\\\"EdgeType.DERIVES\\\"];\\n9 -> 12 [type=\\\"EdgeType.DERIVES\\\"];\\n10 -> 13 [type=\\\"EdgeType.DERIVES\\\"];\\n10 -> 14 [type=\\\"EdgeType.DERIVES\\\"];\\n10 -> 15 [type=\\\"EdgeType.DERIVES\\\"];\\n11 -> 16 [type=\\\"EdgeType.DERIVES\\\"];\\n11 -> 17 [type=\\\"EdgeType.DERIVES\\\"];\\n11 -> 18 [type=\\\"EdgeType.DERIVES\\\"];\\n11 -> 19 [type=\\\"EdgeType.INCOMPATIBILITY\\\", color=red, arrowhead=none, constraint=false];\\n11 -> 20 [type=\\\"EdgeType.INCOMPATIBILITY\\\", color=red, arrowhead=none, constraint=false];\\n11 -> 21 [type=\\\"EdgeType.INCOMPATIBILITY\\\", color=red, arrowhead=none, constraint=false];\\n11 -> 22 [type=\\\"EdgeType.INCOMPATIBILITY\\\", color=red, arrowhead=none, constraint=false];\\n11 -> 23 [type=\\\"EdgeType.INCOMPATIBILITY\\\", color=red, arrowhead=none, constraint=false];\\n11 -> 24 [type=\\\"EdgeType.INCOMPATIBILITY\\\", color=red, arrowhead=none, constraint=false];\\n12 -> 28 [type=\\\"EdgeType.DERIVES\\\"];\\n12 -> 29 [type=\\\"EdgeType.DERIVES\\\"];\\n12 -> 30 [type=\\\"EdgeType.DERIVES\\\"];\\n12 -> 15 [type=\\\"EdgeType.INCOMPATIBILITY\\\", color=red, arrowhead=none, constraint=false];\\n13 -> 34 [type=\\\"EdgeType.DERIVES\\\"];\\n14 -> 34 [type=\\\"EdgeType.DERIVES\\\"];\\n14 -> 35 [type=\\\"EdgeType.DERIVES\\\"];\\n15 -> 34 [type=\\\"EdgeType.DERIVES\\\"];\\n15 -> 35 [type=\\\"EdgeType.DERIVES\\\"];\\n15 -> 36 [type=\\\"EdgeType.DERIVES\\\"];\\n16 -> 25 [type=\\\"EdgeType.DERIVES\\\"];\\n17 -> 26 [type=\\\"EdgeType.DERIVES\\\"];\\n18 -> 27 [type=\\\"EdgeType.DERIVES\\\"];\\n28 -> 31 [type=\\\"EdgeType.DERIVES\\\"];\\n29 -> 32 [type=\\\"EdgeType.DERIVES\\\"];\\n30 -> 33 [type=\\\"EdgeType.DERIVES\\\"];\\n34 -> 37 [type=\\\"EdgeType.DERIVES\\\"];\\n34 -> 38 [type=\\\"EdgeType.DERIVES\\\"];\\n34 -> 39 [type=\\\"EdgeType.DERIVES\\\"];\\n34 -> 19 [type=\\\"EdgeType.DERIVES\\\"];\\n34 -> 20 [type=\\\"EdgeType.DERIVES\\\"];\\n35 -> 40 [type=\\\"EdgeType.DERIVES\\\"];\\n35 -> 41 [type=\\\"EdgeType.DERIVES\\\"];\\n35 -> 42 [type=\\\"EdgeType.DERIVES\\\"];\\n35 -> 21 [type=\\\"EdgeType.DERIVES\\\"];\\n35 -> 22 [type=\\\"EdgeType.DERIVES\\\"];\\n36 -> 43 [type=\\\"EdgeType.DERIVES\\\"];\\n36 -> 44 [type=\\\"EdgeType.DERIVES\\\"];\\n36 -> 45 [type=\\\"EdgeType.DERIVES\\\"];\\n36 -> 23 [type=\\\"EdgeType.DERIVES\\\"];\\n36 -> 24 [type=\\\"EdgeType.DERIVES\\\"];\\n}\\n\"; // Export of the dot graph notation\n",
       "  var printDot = false; // Whether to print the dot instead of rendering\n",
       "  var printSvg = false; // Whether to print the SVG instead of showing the results\n",
       "  // Create viz-js instance and render to SVG\n",
       "  function doRender() {\n",
       "    if (printDot) {\n",
       "      var preEl = document.createElement('pre');\n",
       "      preEl.innerText = dot;\n",
       "      document.getElementById(\"94f5f77aa3384b2d9dbf29b13b3d3fab\").appendChild(preEl);\n",
       "    } else {\n",
       "      Viz.instance().then(function(viz) {\n",
       "        var tgtEl = document.getElementById(\"94f5f77aa3384b2d9dbf29b13b3d3fab\");\n",
       "        var svgElement = viz.renderSVGElement(dot);\n",
       "        if (printSvg) {\n",
       "          var preEl = document.createElement('pre');\n",
       "          preEl.innerText = svgElement.outerHTML;\n",
       "          tgtEl.appendChild(preEl);\n",
       "        } else {\n",
       "          tgtEl.appendChild(svgElement);\n",
       "        }\n",
       "      }).catch(function(e) {\n",
       "        console.log('RENDER ERROR', e, dot);\n",
       "        var preEl = document.createElement('pre');\n",
       "        preEl.innerText = 'RENDER ERROR: '+e.toString();\n",
       "        document.getElementById(\"94f5f77aa3384b2d9dbf29b13b3d3fab\").appendChild(preEl);\n",
       "        var preEl = document.createElement('pre');\n",
       "        preEl.innerText = dot;\n",
       "        document.getElementById(\"94f5f77aa3384b2d9dbf29b13b3d3fab\").appendChild(preEl);\n",
       "      });\n",
       "    }\n",
       "  }\n",
       "  // We may need to wait for loading to complete\n",
       "  function checkRender() {\n",
       "    if (typeof Viz === \"undefined\") { setTimeout(checkRender, 100+200*Math.random()); } else { doRender(); } \n",
       "  }\n",
       "  checkRender();\n",
       "})()\n",
       "</script>\n"
      ],
      "text/plain": [
       "<IPython.core.display.HTML object>"
      ]
     },
     "metadata": {},
     "output_type": "display_data"
    }
   ],
   "source": [
    "from adsg_core import BasicADSG, NamedNode, DesignVariableNode\n",
    "\n",
    "# Create the ADSG\n",
    "adsg = BasicADSG()\n",
    "\n",
    "ndv = 13\n",
    "\n",
    "\n",
    "# Create nodes\n",
    "n = [NamedNode(f\"N{i}\") for i in range(ndv)]\n",
    "n = [\n",
    "    NamedNode(\"MLP\"),\n",
    "    NamedNode(\"Learning_rate\"),\n",
    "    NamedNode(\"Activation_function\"),\n",
    "    NamedNode(\"Optimizer\"),\n",
    "    NamedNode(\"Decay\"),\n",
    "    NamedNode(\"Power_update\"),\n",
    "    NamedNode(\"Average_start\"),\n",
    "    NamedNode(\"Running_Average_1\"),\n",
    "    NamedNode(\"Running_Average_2\"),\n",
    "    NamedNode(\"Numerical_Stability\"),\n",
    "    NamedNode(\"Nb_layers\"),\n",
    "    NamedNode(\"Layer_1\"),\n",
    "    NamedNode(\"Layer_2\"),\n",
    "    NamedNode(\"Layer_3\"),  # NamedNode(\"Dropout\"),\n",
    "    NamedNode(\"ASGD\"),\n",
    "    NamedNode(\"Adam\"),\n",
    "    NamedNode(\"20...40\"),\n",
    "    NamedNode(\"40\"),\n",
    "    NamedNode(\"45\"),\n",
    "    NamedNode(\"20...40\"),\n",
    "    NamedNode(\"40\"),\n",
    "    NamedNode(\"45\"),\n",
    "    NamedNode(\"20...40\"),\n",
    "    NamedNode(\"40\"),\n",
    "    NamedNode(\"45\"),\n",
    "]\n",
    "adsg.add_node(n[1])\n",
    "adsg.add_node(n[2])\n",
    "# adsg.add_node(n[3])\n",
    "\n",
    "# Add some edges\n",
    "adsg.add_edges(\n",
    "    [\n",
    "        # (n[0], n[1]),\n",
    "        # (n[0], n[2]),\n",
    "        # (n[0], n[3]),\n",
    "        (n[3], n[10]),\n",
    "        (n[14], n[4]),\n",
    "        (n[14], n[5]),\n",
    "        (n[14], n[6]),\n",
    "        (n[15], n[7]),\n",
    "        (n[15], n[8]),\n",
    "        (n[15], n[9]),\n",
    "    ]\n",
    ")\n",
    "\n",
    "choiceo = adsg.add_selection_choice(\"Optimizer_Choice\", n[3], [n[14], n[15]])\n",
    "\n",
    "\n",
    "choicenl = adsg.add_selection_choice(\"#layers\", n[10], [n[11], n[12], n[13]])\n",
    "# adsg.add_edges([ (n[12],n[11]), (n[13],n[12]) ])\n",
    "a = []\n",
    "for i in range(3):\n",
    "    a.append(NamedNode(str(25 + 5 * i)))\n",
    "b = a.copy()\n",
    "b.append(n[17])\n",
    "b.append(n[18])\n",
    "choicel1 = adsg.add_selection_choice(\"#neurons_1\", n[11], b)\n",
    "adsg.add_edges([(n[12], choicel1), (n[13], choicel1)])\n",
    "\n",
    "\n",
    "a = []\n",
    "for i in range(3):\n",
    "    a.append(NamedNode(str(25 + 5 * i)))\n",
    "b = a.copy()\n",
    "b.append(n[20])\n",
    "b.append(n[21])\n",
    "choicel1 = adsg.add_selection_choice(\"#neurons_2\", n[12], b)\n",
    "adsg.add_edges([(n[13], choicel1)])\n",
    "\n",
    "a = []\n",
    "for i in range(3):\n",
    "    a.append(NamedNode(str(25 + 5 * i)))\n",
    "b = a.copy()\n",
    "b.append(n[23])\n",
    "b.append(n[24])\n",
    "choicel1 = adsg.add_selection_choice(\"#neurons_3\", n[13], b)\n",
    "\n",
    "# adsg.add_edges([ (n[18],n[17]), (n[17],n[16]) ])\n",
    "# adsg.add_edges([ (n[21],n[20]), (n[20],n[19]) ])\n",
    "# adsg.add_edges([ (n[24],n[23]), (n[23],n[22]) ])\n",
    "\n",
    "adsg.add_incompatibility_constraint([n[15], n[13]])\n",
    "adsg.add_incompatibility_constraint([n[14], n[17]])\n",
    "adsg.add_incompatibility_constraint([n[14], n[18]])\n",
    "adsg.add_incompatibility_constraint([n[14], n[20]])\n",
    "adsg.add_incompatibility_constraint([n[14], n[21]])\n",
    "adsg.add_incompatibility_constraint([n[14], n[23]])\n",
    "adsg.add_incompatibility_constraint([n[14], n[24]])\n",
    "start_nodes = set()\n",
    "start_nodes.add(n[3])\n",
    "start_nodes.add(n[2])\n",
    "start_nodes.add(n[1])\n",
    "# start_nodes.add(n[0])\n",
    "\n",
    "\n",
    "adsg.add_edges(\n",
    "    [\n",
    "        (n[1], DesignVariableNode(\"x0\", bounds=(0, 1))),\n",
    "        (n[4], DesignVariableNode(\"x1\", bounds=(0, 1))),\n",
    "        (n[5], DesignVariableNode(\"x2\", bounds=(0, 1))),\n",
    "        (n[6], DesignVariableNode(\"x3\", bounds=(0, 1))),\n",
    "        (n[7], DesignVariableNode(\"x4\", bounds=(0, 1))),\n",
    "        (n[8], DesignVariableNode(\"x5\", bounds=(0, 1))),\n",
    "        (n[9], DesignVariableNode(\"x6\", bounds=(0, 1))),\n",
    "        # (n[11], DesignVariableNode('x7', options=(\"0\", \"1\"))),\n",
    "    ]\n",
    ")\n",
    "\n",
    "choiceo = adsg.add_selection_choice(\n",
    "    \"Activation_Choice\",\n",
    "    n[2],\n",
    "    [NamedNode(\"ReLU\"), NamedNode(\"Sigmoid\"), NamedNode(\"Tanh\")],\n",
    ")\n",
    "\n",
    "adsg = adsg.set_start_nodes(start_nodes)\n",
    "adsg.render()"
   ]
  },
  {
   "cell_type": "markdown",
   "metadata": {},
   "source": [
    "## ADSG also comes with processing tools"
   ]
  },
  {
   "cell_type": "code",
   "execution_count": 52,
   "metadata": {},
   "outputs": [
    {
     "name": "stdout",
     "output_type": "stream",
     "text": [
      "Design variables: [DV: #layers [3 opts], DV: Activation_Choice [3 opts], DV: Optimizer_Choice [2 opts], DV: #neurons_1 [5 opts], DV: #neurons_2 [5 opts]]\n",
      "DV: #neurons_3 [5 opts], DV: x0 [0.00..1.00], DV: x1 [0.00..1.00], DV: x2 [0.00..1.00], DV: x3 [0.00..1.00], DV: x4 [0.00..1.00], DV: x5 [0.00..1.00], DV: x6 [0.00..1.00]]\n",
      "Objectives: []\n",
      "Constraints: []\n"
     ]
    },
    {
     "data": {
      "text/html": [
       "<div>\n",
       "<style scoped>\n",
       "    .dataframe tbody tr th:only-of-type {\n",
       "        vertical-align: middle;\n",
       "    }\n",
       "\n",
       "    .dataframe tbody tr th {\n",
       "        vertical-align: top;\n",
       "    }\n",
       "\n",
       "    .dataframe thead th {\n",
       "        text-align: right;\n",
       "    }\n",
       "</style>\n",
       "<table border=\"1\" class=\"dataframe\">\n",
       "  <thead>\n",
       "    <tr style=\"text-align: right;\">\n",
       "      <th></th>\n",
       "      <th>n_valid</th>\n",
       "      <th>n_declared</th>\n",
       "      <th>n_discrete</th>\n",
       "      <th>n_dim_cont</th>\n",
       "      <th>n_dim_cont_mean</th>\n",
       "      <th>n_exist</th>\n",
       "      <th>imp_ratio</th>\n",
       "      <th>imp_ratio_comb</th>\n",
       "      <th>imp_ratio_cont</th>\n",
       "      <th>inf_idx</th>\n",
       "      <th>dist_corr</th>\n",
       "      <th>encoder</th>\n",
       "    </tr>\n",
       "    <tr>\n",
       "      <th>type</th>\n",
       "      <th></th>\n",
       "      <th></th>\n",
       "      <th></th>\n",
       "      <th></th>\n",
       "      <th></th>\n",
       "      <th></th>\n",
       "      <th></th>\n",
       "      <th></th>\n",
       "      <th></th>\n",
       "      <th></th>\n",
       "      <th></th>\n",
       "      <th></th>\n",
       "    </tr>\n",
       "  </thead>\n",
       "  <tbody>\n",
       "    <tr>\n",
       "      <th>option-decisions</th>\n",
       "      <td>207</td>\n",
       "      <td>1350</td>\n",
       "      <td>6</td>\n",
       "      <td>0</td>\n",
       "      <td>0.0</td>\n",
       "      <td>1</td>\n",
       "      <td>6.521739</td>\n",
       "      <td>6.521739</td>\n",
       "      <td>1.00</td>\n",
       "      <td>0.531986</td>\n",
       "      <td>0.0</td>\n",
       "      <td>complete</td>\n",
       "    </tr>\n",
       "    <tr>\n",
       "      <th>additional-dvs</th>\n",
       "      <td>207</td>\n",
       "      <td>0</td>\n",
       "      <td>0</td>\n",
       "      <td>7</td>\n",
       "      <td>4.0</td>\n",
       "      <td>207</td>\n",
       "      <td>1.750000</td>\n",
       "      <td>1.000000</td>\n",
       "      <td>1.75</td>\n",
       "      <td>1.000000</td>\n",
       "      <td>0.0</td>\n",
       "      <td></td>\n",
       "    </tr>\n",
       "    <tr>\n",
       "      <th>total-design-space</th>\n",
       "      <td>207</td>\n",
       "      <td>2250</td>\n",
       "      <td>6</td>\n",
       "      <td>7</td>\n",
       "      <td>4.0</td>\n",
       "      <td>1</td>\n",
       "      <td>19.021739</td>\n",
       "      <td>10.869565</td>\n",
       "      <td>1.75</td>\n",
       "      <td>0.493305</td>\n",
       "      <td>0.0</td>\n",
       "      <td>complete</td>\n",
       "    </tr>\n",
       "    <tr>\n",
       "      <th>total-design-problem</th>\n",
       "      <td>207</td>\n",
       "      <td>2250</td>\n",
       "      <td>6</td>\n",
       "      <td>7</td>\n",
       "      <td>4.0</td>\n",
       "      <td>1</td>\n",
       "      <td>19.021739</td>\n",
       "      <td>10.869565</td>\n",
       "      <td>1.75</td>\n",
       "      <td>0.493305</td>\n",
       "      <td>0.0</td>\n",
       "      <td>complete</td>\n",
       "    </tr>\n",
       "  </tbody>\n",
       "</table>\n",
       "</div>"
      ],
      "text/plain": [
       "                      n_valid  n_declared  n_discrete  n_dim_cont  \\\n",
       "type                                                                \n",
       "option-decisions          207        1350           6           0   \n",
       "additional-dvs            207           0           0           7   \n",
       "total-design-space        207        2250           6           7   \n",
       "total-design-problem      207        2250           6           7   \n",
       "\n",
       "                      n_dim_cont_mean  n_exist  imp_ratio  imp_ratio_comb  \\\n",
       "type                                                                        \n",
       "option-decisions                  0.0        1   6.521739        6.521739   \n",
       "additional-dvs                    4.0      207   1.750000        1.000000   \n",
       "total-design-space                4.0        1  19.021739       10.869565   \n",
       "total-design-problem              4.0        1  19.021739       10.869565   \n",
       "\n",
       "                      imp_ratio_cont   inf_idx  dist_corr   encoder  \n",
       "type                                                                 \n",
       "option-decisions                1.00  0.531986        0.0  complete  \n",
       "additional-dvs                  1.75  1.000000        0.0            \n",
       "total-design-space              1.75  0.493305        0.0  complete  \n",
       "total-design-problem            1.75  0.493305        0.0  complete  "
      ]
     },
     "execution_count": 52,
     "metadata": {},
     "output_type": "execute_result"
    }
   ],
   "source": [
    "from adsg_core import GraphProcessor\n",
    "\n",
    "gp = GraphProcessor(adsg)\n",
    "\n",
    "print(\"Design variables:\", gp.des_vars[0:5])\n",
    "print(str(gp.des_vars[5:])[1:])\n",
    "print(\"Objectives:\", gp.objectives)\n",
    "print(\"Constraints:\", gp.constraints)\n",
    "\n",
    "# Display some details about the encoders used for\n",
    "# formulating the optimization problem\n",
    "gp.get_statistics()"
   ]
  },
  {
   "cell_type": "markdown",
   "metadata": {},
   "source": [
    "## Now, let use the SMT interface of ADSG to sample points"
   ]
  },
  {
   "cell_type": "code",
   "execution_count": 53,
   "metadata": {},
   "outputs": [
    {
     "data": {
      "text/html": [
       "<div id=\"594b2be58f18420a84ca598ad0e3fdc4\"></div>\n",
       "<script type=\"text/javascript\" src=\"https://cdn.jsdelivr.net/npm/@viz-js/viz@3.8.0/lib/viz-standalone.js\"></script>\n",
       "<script type=\"text/javascript\">\n",
       "(function() {\n",
       "  var dot = \"strict digraph  {\\nrankdir=LR;\\ndpi=60;\\nfontsize=20;\\n0 [label=<<B>Learning_rate</B>>, style=\\\"filled,bold\\\", fillcolor=\\\"#ffffff\\\", shape=ellipse, margin=0.05];\\n1 [label=\\\"x0 = 0.05217\\\", style=\\\"filled\\\", fillcolor=\\\"#DCE775\\\", shape=ellipse, margin=0.05];\\n2 [label=<<B>Activation_function</B>>, style=\\\"filled,bold\\\", fillcolor=\\\"#ffffff\\\", shape=ellipse, margin=0.05];\\n3 [label=\\\"ReLU\\\", style=\\\"filled\\\", fillcolor=\\\"#ffffff\\\", shape=ellipse, margin=0.05];\\n4 [label=<<B>Optimizer</B>>, style=\\\"filled,bold\\\", fillcolor=\\\"#ffffff\\\", shape=ellipse, margin=0.05];\\n5 [label=\\\"Nb_layers\\\", style=\\\"filled\\\", fillcolor=\\\"#ffffff\\\", shape=ellipse, margin=0.05];\\n6 [label=\\\"Adam\\\", style=\\\"filled\\\", fillcolor=\\\"#ffffff\\\", shape=ellipse, margin=0.05];\\n7 [label=\\\"Layer_1\\\", style=\\\"filled\\\", fillcolor=\\\"#ffffff\\\", shape=ellipse, margin=0.05];\\n8 [label=\\\"Running_Average_1\\\", style=\\\"filled\\\", fillcolor=\\\"#ffffff\\\", shape=ellipse, margin=0.05];\\n9 [label=\\\"Running_Average_2\\\", style=\\\"filled\\\", fillcolor=\\\"#ffffff\\\", shape=ellipse, margin=0.05];\\n10 [label=\\\"Numerical_Stability\\\", style=\\\"filled\\\", fillcolor=\\\"#ffffff\\\", shape=ellipse, margin=0.05];\\n11 [label=\\\"30\\\", style=\\\"filled\\\", fillcolor=\\\"#ffffff\\\", shape=ellipse, margin=0.05];\\n12 [label=\\\"x4 = 0.07237\\\", style=\\\"filled\\\", fillcolor=\\\"#DCE775\\\", shape=ellipse, margin=0.05];\\n13 [label=\\\"x5 = 0.8951\\\", style=\\\"filled\\\", fillcolor=\\\"#DCE775\\\", shape=ellipse, margin=0.05];\\n14 [label=\\\"x6 = 0.6173\\\", style=\\\"filled\\\", fillcolor=\\\"#DCE775\\\", shape=ellipse, margin=0.05];\\n0 -> 1 [type=\\\"EdgeType.DERIVES\\\"];\\n2 -> 3 [type=\\\"EdgeType.DERIVES\\\"];\\n4 -> 5 [type=\\\"EdgeType.DERIVES\\\"];\\n4 -> 6 [type=\\\"EdgeType.DERIVES\\\"];\\n5 -> 7 [type=\\\"EdgeType.DERIVES\\\"];\\n6 -> 8 [type=\\\"EdgeType.DERIVES\\\"];\\n6 -> 9 [type=\\\"EdgeType.DERIVES\\\"];\\n6 -> 10 [type=\\\"EdgeType.DERIVES\\\"];\\n7 -> 11 [type=\\\"EdgeType.DERIVES\\\"];\\n8 -> 12 [type=\\\"EdgeType.DERIVES\\\"];\\n9 -> 13 [type=\\\"EdgeType.DERIVES\\\"];\\n10 -> 14 [type=\\\"EdgeType.DERIVES\\\"];\\n}\\n\"; // Export of the dot graph notation\n",
       "  var printDot = false; // Whether to print the dot instead of rendering\n",
       "  var printSvg = false; // Whether to print the SVG instead of showing the results\n",
       "  // Create viz-js instance and render to SVG\n",
       "  function doRender() {\n",
       "    if (printDot) {\n",
       "      var preEl = document.createElement('pre');\n",
       "      preEl.innerText = dot;\n",
       "      document.getElementById(\"594b2be58f18420a84ca598ad0e3fdc4\").appendChild(preEl);\n",
       "    } else {\n",
       "      Viz.instance().then(function(viz) {\n",
       "        var tgtEl = document.getElementById(\"594b2be58f18420a84ca598ad0e3fdc4\");\n",
       "        var svgElement = viz.renderSVGElement(dot);\n",
       "        if (printSvg) {\n",
       "          var preEl = document.createElement('pre');\n",
       "          preEl.innerText = svgElement.outerHTML;\n",
       "          tgtEl.appendChild(preEl);\n",
       "        } else {\n",
       "          tgtEl.appendChild(svgElement);\n",
       "        }\n",
       "      }).catch(function(e) {\n",
       "        console.log('RENDER ERROR', e, dot);\n",
       "        var preEl = document.createElement('pre');\n",
       "        preEl.innerText = 'RENDER ERROR: '+e.toString();\n",
       "        document.getElementById(\"594b2be58f18420a84ca598ad0e3fdc4\").appendChild(preEl);\n",
       "        var preEl = document.createElement('pre');\n",
       "        preEl.innerText = dot;\n",
       "        document.getElementById(\"594b2be58f18420a84ca598ad0e3fdc4\").appendChild(preEl);\n",
       "      });\n",
       "    }\n",
       "  }\n",
       "  // We may need to wait for loading to complete\n",
       "  function checkRender() {\n",
       "    if (typeof Viz === \"undefined\") { setTimeout(checkRender, 100+200*Math.random()); } else { doRender(); } \n",
       "  }\n",
       "  checkRender();\n",
       "})()\n",
       "</script>\n"
      ],
      "text/plain": [
       "<IPython.core.display.HTML object>"
      ]
     },
     "metadata": {},
     "output_type": "display_data"
    }
   ],
   "source": [
    "design_space = AdsgDesignSpaceImpl(adsg=adsg)\n",
    "design_space._sample_valid_x(1, return_render=True)[2][0].render()"
   ]
  },
  {
   "cell_type": "markdown",
   "metadata": {},
   "source": [
    "## One can also use SMT ConfigSpace, with the same API as before"
   ]
  },
  {
   "cell_type": "code",
   "execution_count": 80,
   "metadata": {
    "scrolled": true
   },
   "outputs": [],
   "source": [
    "# Define the mixed hierarchical design space\n",
    "design_space = ConfigSpaceDesignSpaceImpl(\n",
    "    [\n",
    "        FloatVariable(0, 1),  # Learning rate\n",
    "        CategoricalVariable(\n",
    "            [\"ReLU\", \"Sigmoid\", \"Tanh\"]\n",
    "        ),  # 3 possible choices for the activation function\n",
    "        CategoricalVariable([\"ASGD\", \"Adam\"]),  # 2 possible choices for the optimizer\n",
    "        FloatVariable(0, 1),  # ASGD Decay\n",
    "        FloatVariable(0, 1),  # ASGD Power update\n",
    "        FloatVariable(0, 1),  # ASGD Average start\n",
    "        FloatVariable(0, 1),  # Adam Running Average 1\n",
    "        FloatVariable(0, 1),  # Adam Running Average 2\n",
    "        FloatVariable(0, 1),  # Adam Numerical Stability\n",
    "        IntegerVariable(1, 3),  # for the number of hidden layers  (l=x9)\n",
    "        OrdinalVariable(\n",
    "            [\"25\", \"30\", \"35\", \"40\", \"45\"]\n",
    "        ),  # number of hidden neurons layer 1\n",
    "        OrdinalVariable(\n",
    "            [\"25\", \"30\", \"35\", \"40\", \"45\"]\n",
    "        ),  # number of hidden neurons layer 2\n",
    "        OrdinalVariable(\n",
    "            [\"25\", \"30\", \"35\", \"40\", \"45\"]\n",
    "        ),  # number of hidden neurons layer 3\n",
    "    ]\n",
    ")\n",
    "\n",
    "# ASGD vs Adam optimizer options activated or deactivated\n",
    "design_space.declare_decreed_var(decreed_var=3, meta_var=2, meta_value=[\"ASGD\"])\n",
    "design_space.declare_decreed_var(decreed_var=4, meta_var=2, meta_value=[\"ASGD\"])\n",
    "design_space.declare_decreed_var(decreed_var=5, meta_var=2, meta_value=[\"ASGD\"])\n",
    "design_space.declare_decreed_var(decreed_var=6, meta_var=2, meta_value=[\"Adam\"])\n",
    "design_space.declare_decreed_var(decreed_var=7, meta_var=2, meta_value=[\"Adam\"])\n",
    "design_space.declare_decreed_var(decreed_var=8, meta_var=2, meta_value=[\"Adam\"])\n",
    "\n",
    "# Number of hidden layers: Activate x11 when x9 in [2, 3] and x12 when x9 == 3\n",
    "design_space.add_value_constraint(\n",
    "    var1=9, value1=3, var2=2, value2=[\"Adam\"]\n",
    ")  # Forbid 3 hidden layers with Adam\n",
    "design_space.declare_decreed_var(decreed_var=10, meta_var=9, meta_value=[1, 2, 3])\n",
    "design_space.declare_decreed_var(decreed_var=11, meta_var=9, meta_value=[2, 3])\n",
    "design_space.declare_decreed_var(decreed_var=12, meta_var=9, meta_value=3)\n",
    "design_space.add_value_constraint(\n",
    "    var1=10, value1=[\"40\", \"45\"], var2=2, value2=[\"ASGD\"]\n",
    ")  # Forbid more than 35 neurons with ASGD\n",
    "design_space.add_value_constraint(\n",
    "    var1=11, value1=[\"40\", \"45\"], var2=2, value2=[\"ASGD\"]\n",
    ")  # Forbid more than 35 neurons with ASGD\n",
    "design_space.add_value_constraint(\n",
    "    var1=12, value1=[\"40\", \"45\"], var2=2, value2=[\"ASGD\"]\n",
    ")  # Forbid more than 35 neurons with ASGD"
   ]
  },
  {
   "cell_type": "code",
   "execution_count": 86,
   "metadata": {},
   "outputs": [
    {
     "name": "stdout",
     "output_type": "stream",
     "text": [
      "Sampled data: \n",
      " [[0.382776   2.         0.         0.10475731 0.0866094  0.88273633\n",
      "  0.5        0.5        0.5        1.         2.         0.\n",
      "  0.        ]\n",
      " [0.35718615 1.         1.         0.5        0.5        0.5\n",
      "  0.77476507 0.84393725 0.79086771 2.         3.         3.\n",
      "  0.        ]]\n"
     ]
    }
   ],
   "source": [
    "x_sampled, is_acting_sampled = design_space.sample_valid_x(2)\n",
    "print(\"Sampled data: \\n\", x_sampled)\n"
   ]
  },
  {
   "cell_type": "markdown",
   "metadata": {},
   "source": [
    "## Or with ADSG"
   ]
  },
  {
   "cell_type": "code",
   "execution_count": 78,
   "metadata": {},
   "outputs": [],
   "source": [
    "# Define the mixed hierarchical design space\n",
    "design_space3 = AdsgDesignSpaceImpl(\n",
    "    design_variables=[\n",
    "        FloatVariable(0, 1),  # Learning rate\n",
    "        CategoricalVariable(\n",
    "            [\"ReLU\", \"Sigmoid\", \"Tanh\"]\n",
    "        ),  # 3 possible choices for the activation function\n",
    "        CategoricalVariable([\"ASGD\", \"Adam\"]),  # 2 possible choices for the optimizer\n",
    "        FloatVariable(0, 1),  # ASGD Decay\n",
    "        FloatVariable(0, 1),  # ASGD Power update\n",
    "        FloatVariable(0, 1),  # ASGD Average start\n",
    "        FloatVariable(0, 1),  # Adam Running Average 1\n",
    "        FloatVariable(0, 1),  # Adam Running Average 2\n",
    "        FloatVariable(0, 1),  # Adam Numerical Stability\n",
    "        OrdinalVariable([\"1\", \"2\", \"3\"]),  # for the number of hidden layers  (l=x9)\n",
    "        OrdinalVariable(\n",
    "            [\"25\", \"30\", \"35\", \"40\", \"45\"]\n",
    "        ),  # number of hidden neurons layer 1\n",
    "        OrdinalVariable(\n",
    "            [\"25\", \"30\", \"35\", \"40\", \"45\"]\n",
    "        ),  # number of hidden neurons layer 2\n",
    "        OrdinalVariable(\n",
    "            [\"25\", \"30\", \"35\", \"40\", \"45\"]\n",
    "        ),  # number of hidden neurons layer 3\n",
    "    ]\n",
    ")\n",
    "\n",
    "# ASGD vs Adam optimizer options activated or deactivated\n",
    "design_space3.declare_decreed_var(decreed_var=3, meta_var=2, meta_value=[\"ASGD\"])\n",
    "design_space3.declare_decreed_var(decreed_var=4, meta_var=2, meta_value=[\"ASGD\"])\n",
    "design_space3.declare_decreed_var(decreed_var=5, meta_var=2, meta_value=[\"ASGD\"])\n",
    "design_space3.declare_decreed_var(decreed_var=6, meta_var=2, meta_value=[\"Adam\"])\n",
    "design_space3.declare_decreed_var(decreed_var=7, meta_var=2, meta_value=[\"Adam\"])\n",
    "design_space3.declare_decreed_var(decreed_var=8, meta_var=2, meta_value=[\"Adam\"])\n",
    "\n",
    "# Number of hidden layers: Activate x11 when x9 in [2, 3] and x12 when x9 == 3\n",
    "design_space3.add_value_constraint(\n",
    "    var1=9, value1=\"3\", var2=2, value2=[\"Adam\"]\n",
    ")  # Forbid 3  hidden layers with Adam\n",
    "design_space3.declare_decreed_var(\n",
    "    decreed_var=10, meta_var=9, meta_value=[\"1\", \"2\", \"3\"]\n",
    ")\n",
    "design_space3.declare_decreed_var(decreed_var=11, meta_var=9, meta_value=[\"2\", \"3\"])\n",
    "design_space3.declare_decreed_var(decreed_var=12, meta_var=9, meta_value=\"3\")\n",
    "design_space3.add_value_constraint(\n",
    "    var1=10, value1=[\"40\", \"45\"], var2=2, value2=[\"ASGD\"]\n",
    ")  # Forbid more than 35 neurons with ASGD\n",
    "design_space3.add_value_constraint(\n",
    "    var1=11, value1=[\"40\", \"45\"], var2=2, value2=[\"ASGD\"]\n",
    ")  # Forbid more than 35 neurons with ASGD\n",
    "design_space3.add_value_constraint(\n",
    "    var1=12, value1=[\"40\", \"45\"], var2=2, value2=[\"ASGD\"]\n",
    ")  # Forbid more than 35 neurons with ASGD\n",
    "\n"
   ]
  },
  {
   "cell_type": "code",
   "execution_count": 79,
   "metadata": {},
   "outputs": [
    {
     "data": {
      "text/html": [
       "<div id=\"50c3be6a930649ebaed17a801de5184e\"></div>\n",
       "<script type=\"text/javascript\" src=\"https://cdn.jsdelivr.net/npm/@viz-js/viz@3.8.0/lib/viz-standalone.js\"></script>\n",
       "<script type=\"text/javascript\">\n",
       "(function() {\n",
       "  var dot = \"strict digraph  {\\nrankdir=LR;\\ndpi=60;\\nfontsize=20;\\n0 [label=<<B>x1</B>>, style=\\\"filled,bold\\\", fillcolor=\\\"#ffffff\\\", shape=ellipse, margin=0.05];\\n1 [label=\\\"Sigmoid\\\", style=\\\"filled\\\", fillcolor=\\\"#ffffff\\\", shape=ellipse, margin=0.05];\\n2 [label=<<B>x2</B>>, style=\\\"filled,bold\\\", fillcolor=\\\"#ffffff\\\", shape=ellipse, margin=0.05];\\n3 [label=\\\"Adam\\\", style=\\\"filled\\\", fillcolor=\\\"#ffffff\\\", shape=ellipse, margin=0.05];\\n4 [label=\\\"x8 = 0.5885\\\", style=\\\"filled\\\", fillcolor=\\\"#DCE775\\\", shape=ellipse, margin=0.05];\\n5 [label=\\\"x7 = 0.6282\\\", style=\\\"filled\\\", fillcolor=\\\"#DCE775\\\", shape=ellipse, margin=0.05];\\n6 [label=\\\"x6 = 0.1262\\\", style=\\\"filled\\\", fillcolor=\\\"#DCE775\\\", shape=ellipse, margin=0.05];\\n7 [label=\\\"x10\\\", style=\\\"filled\\\", fillcolor=\\\"#ffffff\\\", shape=ellipse, margin=0.05];\\n8 [label=\\\"35\\\", style=\\\"filled\\\", fillcolor=\\\"#ffffff\\\", shape=ellipse, margin=0.05];\\n9 [label=<<B>x9</B>>, style=\\\"filled,bold\\\", fillcolor=\\\"#ffffff\\\", shape=ellipse, margin=0.05];\\n10 [label=\\\"1\\\", style=\\\"filled\\\", fillcolor=\\\"#ffffff\\\", shape=ellipse, margin=0.05];\\n11 [label=<<B>x0 = 0.7744</B>>, style=\\\"filled,bold\\\", fillcolor=\\\"#DCE775\\\", shape=ellipse, margin=0.05];\\n0 -> 1 [type=\\\"EdgeType.DERIVES\\\"];\\n2 -> 3 [type=\\\"EdgeType.DERIVES\\\"];\\n3 -> 4 [type=\\\"EdgeType.DERIVES\\\"];\\n3 -> 5 [type=\\\"EdgeType.DERIVES\\\"];\\n3 -> 6 [type=\\\"EdgeType.DERIVES\\\"];\\n7 -> 8 [type=\\\"EdgeType.DERIVES\\\"];\\n9 -> 10 [type=\\\"EdgeType.DERIVES\\\"];\\n10 -> 7 [type=\\\"EdgeType.DERIVES\\\"];\\n}\\n\"; // Export of the dot graph notation\n",
       "  var printDot = false; // Whether to print the dot instead of rendering\n",
       "  var printSvg = false; // Whether to print the SVG instead of showing the results\n",
       "  // Create viz-js instance and render to SVG\n",
       "  function doRender() {\n",
       "    if (printDot) {\n",
       "      var preEl = document.createElement('pre');\n",
       "      preEl.innerText = dot;\n",
       "      document.getElementById(\"50c3be6a930649ebaed17a801de5184e\").appendChild(preEl);\n",
       "    } else {\n",
       "      Viz.instance().then(function(viz) {\n",
       "        var tgtEl = document.getElementById(\"50c3be6a930649ebaed17a801de5184e\");\n",
       "        var svgElement = viz.renderSVGElement(dot);\n",
       "        if (printSvg) {\n",
       "          var preEl = document.createElement('pre');\n",
       "          preEl.innerText = svgElement.outerHTML;\n",
       "          tgtEl.appendChild(preEl);\n",
       "        } else {\n",
       "          tgtEl.appendChild(svgElement);\n",
       "        }\n",
       "      }).catch(function(e) {\n",
       "        console.log('RENDER ERROR', e, dot);\n",
       "        var preEl = document.createElement('pre');\n",
       "        preEl.innerText = 'RENDER ERROR: '+e.toString();\n",
       "        document.getElementById(\"50c3be6a930649ebaed17a801de5184e\").appendChild(preEl);\n",
       "        var preEl = document.createElement('pre');\n",
       "        preEl.innerText = dot;\n",
       "        document.getElementById(\"50c3be6a930649ebaed17a801de5184e\").appendChild(preEl);\n",
       "      });\n",
       "    }\n",
       "  }\n",
       "  // We may need to wait for loading to complete\n",
       "  function checkRender() {\n",
       "    if (typeof Viz === \"undefined\") { setTimeout(checkRender, 100+200*Math.random()); } else { doRender(); } \n",
       "  }\n",
       "  checkRender();\n",
       "})()\n",
       "</script>\n"
      ],
      "text/plain": [
       "<IPython.core.display.HTML object>"
      ]
     },
     "metadata": {},
     "output_type": "display_data"
    },
    {
     "data": {
      "text/html": [
       "<div id=\"0303c4b1844f46dfaba569538151a6ed\"></div>\n",
       "<script type=\"text/javascript\" src=\"https://cdn.jsdelivr.net/npm/@viz-js/viz@3.8.0/lib/viz-standalone.js\"></script>\n",
       "<script type=\"text/javascript\">\n",
       "(function() {\n",
       "  var dot = \"strict digraph  {\\nrankdir=LR;\\ndpi=60;\\nfontsize=20;\\n0 [label=<<B>x1</B>>, style=\\\"filled,bold\\\", fillcolor=\\\"#ffffff\\\", shape=ellipse, margin=0.05];\\n1 [label=\\\"Tanh\\\", style=\\\"filled\\\", fillcolor=\\\"#ffffff\\\", shape=ellipse, margin=0.05];\\n2 [label=<<B>x2</B>>, style=\\\"filled,bold\\\", fillcolor=\\\"#ffffff\\\", shape=ellipse, margin=0.05];\\n3 [label=\\\"ASGD\\\", style=\\\"filled\\\", fillcolor=\\\"#ffffff\\\", shape=ellipse, margin=0.05];\\n4 [label=\\\"x5 = 0.4809\\\", style=\\\"filled\\\", fillcolor=\\\"#DCE775\\\", shape=ellipse, margin=0.05];\\n5 [label=\\\"x3 = 0.08625\\\", style=\\\"filled\\\", fillcolor=\\\"#DCE775\\\", shape=ellipse, margin=0.05];\\n6 [label=\\\"x4 = 0.3989\\\", style=\\\"filled\\\", fillcolor=\\\"#DCE775\\\", shape=ellipse, margin=0.05];\\n7 [label=\\\"x10\\\", style=\\\"filled\\\", fillcolor=\\\"#ffffff\\\", shape=ellipse, margin=0.05];\\n8 [label=\\\"35\\\", style=\\\"filled\\\", fillcolor=\\\"#ffffff\\\", shape=ellipse, margin=0.05];\\n9 [label=<<B>x9</B>>, style=\\\"filled,bold\\\", fillcolor=\\\"#ffffff\\\", shape=ellipse, margin=0.05];\\n10 [label=\\\"1\\\", style=\\\"filled\\\", fillcolor=\\\"#ffffff\\\", shape=ellipse, margin=0.05];\\n11 [label=<<B>x0 = 0.1827</B>>, style=\\\"filled,bold\\\", fillcolor=\\\"#DCE775\\\", shape=ellipse, margin=0.05];\\n0 -> 1 [type=\\\"EdgeType.DERIVES\\\"];\\n2 -> 3 [type=\\\"EdgeType.DERIVES\\\"];\\n3 -> 4 [type=\\\"EdgeType.DERIVES\\\"];\\n3 -> 5 [type=\\\"EdgeType.DERIVES\\\"];\\n3 -> 6 [type=\\\"EdgeType.DERIVES\\\"];\\n7 -> 8 [type=\\\"EdgeType.DERIVES\\\"];\\n9 -> 10 [type=\\\"EdgeType.DERIVES\\\"];\\n10 -> 7 [type=\\\"EdgeType.DERIVES\\\"];\\n}\\n\"; // Export of the dot graph notation\n",
       "  var printDot = false; // Whether to print the dot instead of rendering\n",
       "  var printSvg = false; // Whether to print the SVG instead of showing the results\n",
       "  // Create viz-js instance and render to SVG\n",
       "  function doRender() {\n",
       "    if (printDot) {\n",
       "      var preEl = document.createElement('pre');\n",
       "      preEl.innerText = dot;\n",
       "      document.getElementById(\"0303c4b1844f46dfaba569538151a6ed\").appendChild(preEl);\n",
       "    } else {\n",
       "      Viz.instance().then(function(viz) {\n",
       "        var tgtEl = document.getElementById(\"0303c4b1844f46dfaba569538151a6ed\");\n",
       "        var svgElement = viz.renderSVGElement(dot);\n",
       "        if (printSvg) {\n",
       "          var preEl = document.createElement('pre');\n",
       "          preEl.innerText = svgElement.outerHTML;\n",
       "          tgtEl.appendChild(preEl);\n",
       "        } else {\n",
       "          tgtEl.appendChild(svgElement);\n",
       "        }\n",
       "      }).catch(function(e) {\n",
       "        console.log('RENDER ERROR', e, dot);\n",
       "        var preEl = document.createElement('pre');\n",
       "        preEl.innerText = 'RENDER ERROR: '+e.toString();\n",
       "        document.getElementById(\"0303c4b1844f46dfaba569538151a6ed\").appendChild(preEl);\n",
       "        var preEl = document.createElement('pre');\n",
       "        preEl.innerText = dot;\n",
       "        document.getElementById(\"0303c4b1844f46dfaba569538151a6ed\").appendChild(preEl);\n",
       "      });\n",
       "    }\n",
       "  }\n",
       "  // We may need to wait for loading to complete\n",
       "  function checkRender() {\n",
       "    if (typeof Viz === \"undefined\") { setTimeout(checkRender, 100+200*Math.random()); } else { doRender(); } \n",
       "  }\n",
       "  checkRender();\n",
       "})()\n",
       "</script>\n"
      ],
      "text/plain": [
       "<IPython.core.display.HTML object>"
      ]
     },
     "metadata": {},
     "output_type": "display_data"
    },
    {
     "data": {
      "text/html": [
       "<div id=\"43438f171b6d415ea82dc90abe14e326\"></div>\n",
       "<script type=\"text/javascript\" src=\"https://cdn.jsdelivr.net/npm/@viz-js/viz@3.8.0/lib/viz-standalone.js\"></script>\n",
       "<script type=\"text/javascript\">\n",
       "(function() {\n",
       "  var dot = \"strict digraph  {\\nrankdir=LR;\\ndpi=60;\\nfontsize=20;\\n0 [label=<<B>x1</B>>, style=\\\"filled,bold\\\", fillcolor=\\\"#ffffff\\\", shape=ellipse, margin=0.05];\\n1 [label=\\\"ReLU\\\", style=\\\"filled\\\", fillcolor=\\\"#ffffff\\\", shape=ellipse, margin=0.05];\\n2 [label=<<B>x2</B>>, style=\\\"filled,bold\\\", fillcolor=\\\"#ffffff\\\", shape=ellipse, margin=0.05];\\n3 [label=\\\"Adam\\\", style=\\\"filled\\\", fillcolor=\\\"#ffffff\\\", shape=ellipse, margin=0.05];\\n4 [label=\\\"x8 = 0.255\\\", style=\\\"filled\\\", fillcolor=\\\"#DCE775\\\", shape=ellipse, margin=0.05];\\n5 [label=\\\"x7 = 0.9105\\\", style=\\\"filled\\\", fillcolor=\\\"#DCE775\\\", shape=ellipse, margin=0.05];\\n6 [label=\\\"x6 = 0.5232\\\", style=\\\"filled\\\", fillcolor=\\\"#DCE775\\\", shape=ellipse, margin=0.05];\\n7 [label=\\\"x10\\\", style=\\\"filled\\\", fillcolor=\\\"#ffffff\\\", shape=ellipse, margin=0.05];\\n8 [label=\\\"35\\\", style=\\\"filled\\\", fillcolor=\\\"#ffffff\\\", shape=ellipse, margin=0.05];\\n9 [label=<<B>x9</B>>, style=\\\"filled,bold\\\", fillcolor=\\\"#ffffff\\\", shape=ellipse, margin=0.05];\\n10 [label=\\\"1\\\", style=\\\"filled\\\", fillcolor=\\\"#ffffff\\\", shape=ellipse, margin=0.05];\\n11 [label=<<B>x0 = 0.1609</B>>, style=\\\"filled,bold\\\", fillcolor=\\\"#DCE775\\\", shape=ellipse, margin=0.05];\\n0 -> 1 [type=\\\"EdgeType.DERIVES\\\"];\\n2 -> 3 [type=\\\"EdgeType.DERIVES\\\"];\\n3 -> 4 [type=\\\"EdgeType.DERIVES\\\"];\\n3 -> 5 [type=\\\"EdgeType.DERIVES\\\"];\\n3 -> 6 [type=\\\"EdgeType.DERIVES\\\"];\\n7 -> 8 [type=\\\"EdgeType.DERIVES\\\"];\\n9 -> 10 [type=\\\"EdgeType.DERIVES\\\"];\\n10 -> 7 [type=\\\"EdgeType.DERIVES\\\"];\\n}\\n\"; // Export of the dot graph notation\n",
       "  var printDot = false; // Whether to print the dot instead of rendering\n",
       "  var printSvg = false; // Whether to print the SVG instead of showing the results\n",
       "  // Create viz-js instance and render to SVG\n",
       "  function doRender() {\n",
       "    if (printDot) {\n",
       "      var preEl = document.createElement('pre');\n",
       "      preEl.innerText = dot;\n",
       "      document.getElementById(\"43438f171b6d415ea82dc90abe14e326\").appendChild(preEl);\n",
       "    } else {\n",
       "      Viz.instance().then(function(viz) {\n",
       "        var tgtEl = document.getElementById(\"43438f171b6d415ea82dc90abe14e326\");\n",
       "        var svgElement = viz.renderSVGElement(dot);\n",
       "        if (printSvg) {\n",
       "          var preEl = document.createElement('pre');\n",
       "          preEl.innerText = svgElement.outerHTML;\n",
       "          tgtEl.appendChild(preEl);\n",
       "        } else {\n",
       "          tgtEl.appendChild(svgElement);\n",
       "        }\n",
       "      }).catch(function(e) {\n",
       "        console.log('RENDER ERROR', e, dot);\n",
       "        var preEl = document.createElement('pre');\n",
       "        preEl.innerText = 'RENDER ERROR: '+e.toString();\n",
       "        document.getElementById(\"43438f171b6d415ea82dc90abe14e326\").appendChild(preEl);\n",
       "        var preEl = document.createElement('pre');\n",
       "        preEl.innerText = dot;\n",
       "        document.getElementById(\"43438f171b6d415ea82dc90abe14e326\").appendChild(preEl);\n",
       "      });\n",
       "    }\n",
       "  }\n",
       "  // We may need to wait for loading to complete\n",
       "  function checkRender() {\n",
       "    if (typeof Viz === \"undefined\") { setTimeout(checkRender, 100+200*Math.random()); } else { doRender(); } \n",
       "  }\n",
       "  checkRender();\n",
       "})()\n",
       "</script>\n"
      ],
      "text/plain": [
       "<IPython.core.display.HTML object>"
      ]
     },
     "metadata": {},
     "output_type": "display_data"
    }
   ],
   "source": [
    "design_space3._sample_valid_x(1, return_render=True)[2][0].render()\n",
    "design_space3._sample_valid_x(1, return_render=True)[2][0].render()\n",
    "design_space3._sample_valid_x(1, return_render=True)[2][0].render()\n"
   ]
  }
 ],
 "metadata": {
  "colab": {
   "include_colab_link": true,
   "name": "SMT_DesignSpace_example.ipynb",
   "provenance": []
  },
  "kernelspec": {
   "display_name": "Python 3 (ipykernel)",
   "language": "python",
   "name": "python3"
  },
  "language_info": {
   "codemirror_mode": {
    "name": "ipython",
    "version": 3
   },
   "file_extension": ".py",
   "mimetype": "text/x-python",
   "name": "python",
   "nbconvert_exporter": "python",
   "pygments_lexer": "ipython3",
   "version": "3.9.18"
  }
 },
 "nbformat": 4,
 "nbformat_minor": 4
}
